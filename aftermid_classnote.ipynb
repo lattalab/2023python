{
 "cells": [
  {
   "attachments": {},
   "cell_type": "markdown",
   "metadata": {},
   "source": [
    "### Lecture 7 "
   ]
  },
  {
   "cell_type": "code",
   "execution_count": null,
   "metadata": {},
   "outputs": [],
   "source": [
    "# Define a function\n",
    "\n",
    "# 你可以定義在 任何地方\n",
    "# 1. Top-level sequence\n",
    "#   因為python是循序執行的，所以我們需要在 \"呼叫前\" 定義好\n",
    "\n",
    "# 2. After another function have been defined that called them\n",
    "#   當 一個function會呼叫另一個function時，兩者需同時皆被定義好\n",
    "\n",
    "# 3. Inside of another function\n",
    "#   定義跟呼叫皆在同一function內\n",
    "\n",
    "# 4. In bizarre places\n",
    "#   可以定義在某個if()下，只要有先定義再呼叫就行得通"
   ]
  },
  {
   "cell_type": "code",
   "execution_count": 3,
   "metadata": {},
   "outputs": [
    {
     "data": {
      "text/plain": [
       "191"
      ]
     },
     "execution_count": 3,
     "metadata": {},
     "output_type": "execute_result"
    }
   ],
   "source": [
    "#In python, function 可以在任何時候定義，只要最後 呼叫時定義寫好就行\n",
    "def f(i): return g(i+1)\n",
    "\n",
    "# f(1) # (把f(1)放在這裡會Name Error)\n",
    "\n",
    "def g(i):\n",
    "     if(i<99): return f(i*2)\n",
    "     return i\n",
    "\n",
    "f(1)"
   ]
  },
  {
   "cell_type": "code",
   "execution_count": 4,
   "metadata": {},
   "outputs": [
    {
     "name": "stdout",
     "output_type": "stream",
     "text": [
      "Defined!\n"
     ]
    }
   ],
   "source": [
    "def f():\n",
    "    def g():\n",
    "        print(\"Defined!\")\n",
    "\n",
    "    g()\n",
    "\n",
    "f()"
   ]
  },
  {
   "cell_type": "code",
   "execution_count": 2,
   "metadata": {},
   "outputs": [],
   "source": [
    "# Python actually is \"Pass by Assignment\"\n",
    "# 因為 python 中變數依照 「assign」的對象改變記憶體位置，因此有一說為「pass-by-assignment」\n",
    "\n",
    "# 結論:\n",
    "# If parameter is immutable Type => pass by value\n",
    "# elif parameter is mutable Type:\n",
    "#   if overwritten(在functions中改變參數的值 ( obj = [1,2,3]) ) => pass by value(原本的值不會動到)\n",
    "#   else (改變mutable object中的東西) => pass by reference"
   ]
  },
  {
   "cell_type": "code",
   "execution_count": 5,
   "metadata": {},
   "outputs": [
    {
     "name": "stdout",
     "output_type": "stream",
     "text": [
      "Name: 20  Age: Sally\n",
      "Name: Sally  Age: 20\n",
      "\n",
      "Name is: Aditya\n",
      "Identity Number is: TM2017001\n",
      "Age is: 23\n",
      "Weight is: 65\n",
      "\n",
      "Default argument:\n",
      "3\n",
      "11\n",
      "\n",
      "Variable-Length Argument:\n",
      "('name', 'age', 'Hello')\n",
      "\n",
      "(1, 2, 3, 4, 5)\n",
      "{'num1': 5, 'num2': 10}\n",
      "\n",
      "a b c\n"
     ]
    }
   ],
   "source": [
    "# 1. Positional argument (按順序)\n",
    "# 2. Keyword argument (指定parameter的值)\n",
    "def printinfo(name , age):\n",
    "    print(\"Name:\",name,\" Age:\",age)\n",
    "\n",
    "printinfo(20,\"Sally\")\n",
    "printinfo(age=20, name = \"Sally\")\n",
    "print()\n",
    "\n",
    "def printDetails(name, identity_number, age, weight):\n",
    "    print(\"Name is:\", name)\n",
    "    print(\"Identity Number is:\", identity_number)\n",
    "    print(\"Age is:\", age)\n",
    "    print(\"Weight is:\", weight)\n",
    "\n",
    "#開始使用Keyword argument之後 一定要特別指定\n",
    "printDetails(\"Aditya\", \"TM2017001\", age=23, weight=65) \n",
    "# printDetails(age=23, weight=65, \"Aditya\", \"TM2017001\") =>Sytnax Error\n",
    "\n",
    "print()\n",
    "print(\"Default argument:\")\n",
    "# 3. Default argument (先指定parameter的變數值)\n",
    "def myfunc(a, b=10):\n",
    "    return a + b\n",
    "\n",
    "print(myfunc(1, 2)) # 3\n",
    "print(myfunc(1))    # 11\n",
    "\n",
    "# def myfunc(b=10, a):\n",
    "# Sytnax Error (default argument要放後面)\n",
    "\n",
    "print()\n",
    "print(\"Variable-Length Argument:\")\n",
    "# 4. Variable-Length Argument (可以傳多個變數，*var以一個Tuple表示多個變數)\n",
    "# *arg\n",
    "# 允許函式接收任意數量的 \"位置\" 參數\n",
    "# 後面要接的 參數 皆為 keyword variable\n",
    "def example(*arg):\n",
    "    print(arg)\n",
    "\n",
    "example(\"name\", \"age\", \"Hello\")\n",
    "\n",
    "print()\n",
    "\n",
    "# def f(a,*junk,PassByName=7) :但如果不要junk這個Variable-Length Argument\n",
    "# 改成 def f(a,*,PassByName=7) (*不會有作用)\n",
    "\n",
    "# bouns: **kwarg: 跟*arg類似，但會轉成字典\n",
    "def super_func(*args, **kwargs):\n",
    "    print(args)\n",
    "    print(kwargs)\n",
    "\n",
    "super_func(1, 2, 3, 4, 5, num1=5, num2=10)\n",
    "print()\n",
    "\n",
    "# Splat in the call statement within the caller\n",
    "# *x: change a list/tuple/string into positional argument\n",
    "# *[1,2,3,4,5] -> 1,2,3,4,5\n",
    "\n",
    "# **x:\tUnpacks a dictionary into keyword arguments.\n",
    "# def func(**kwargs):\n",
    "#    print(kwargs)\n",
    "# func(**{'a':2 ,'b':3, 'c':4}) can work correctly\n",
    "# but if we sent *{'a':2 ,'b':3, 'c':4} to a def funcs2(*args):\n",
    "# we only get keys ('a', 'b', 'c')\n",
    "\n",
    "print(*{'a':2 ,'b':3, 'c':4}) #it can work\n",
    "# but  print(**{'a':2 ,'b':3, 'c':4}) can't work\n",
    "\n",
    "# 5. Keyword-only variable - 一定要強調Keyword的parameters\n",
    "# def area(x,y,*,unit=\"meters\")\n",
    "#   ...\n",
    "# area(2,3,unit=\"feet\")\n",
    "# unit 是 Keyword-only variable = 有預設值 + 傳參數時指定名字\n",
    "\n",
    "# 6. variable-length-keyword-arguments : \n",
    "# **kwargs\n",
    "# 允許函式接收任意數量的 \"關鍵字\" 參數\n",
    "\n",
    "# we can return multiple by tuple\n",
    "# 沒有寫return的function，實際上是回傳None (a unique DataType)"
   ]
  },
  {
   "attachments": {},
   "cell_type": "markdown",
   "metadata": {},
   "source": [
    "### Lecture 8"
   ]
  },
  {
   "cell_type": "code",
   "execution_count": 4,
   "metadata": {},
   "outputs": [
    {
     "name": "stdout",
     "output_type": "stream",
     "text": [
      "1\n",
      "2\n",
      "3\n",
      "4\n",
      "\n",
      "In PS 2:\n",
      "1\n",
      "2\n",
      "5\n",
      "4\n",
      "3\n",
      "a\n"
     ]
    }
   ],
   "source": [
    "# iter() :生成一個iterator\n",
    "# next() :用來跑這個iterator，並得到該值\n",
    "# example:\n",
    "it = iter([1,2,3,4])\n",
    "print(next(it))\n",
    "print(next(it))\n",
    "print(next(it))\n",
    "print(next(it))\n",
    "\n",
    "print()\n",
    "\n",
    "# PS:\n",
    "# iter(object,[sentinel])\n",
    "# object (required) – An iterable sequence whose iterator is to be created\n",
    "# sentinel (optional) – If used, the object must be callable\n",
    "\n",
    "# PS 2:\n",
    "print(\"In PS 2:\")\n",
    "# next(iterator[, default])\n",
    "it = iter([1, 2, 5, 4, 3])\n",
    "while True:\n",
    "    x = next(it, 'a')\n",
    "    print(x)\n",
    "    if x == 'a':\n",
    "        break"
   ]
  },
  {
   "cell_type": "code",
   "execution_count": 5,
   "metadata": {},
   "outputs": [
    {
     "data": {
      "text/plain": [
       "(1, 'b', 3.0)"
      ]
     },
     "execution_count": 5,
     "metadata": {},
     "output_type": "execute_result"
    }
   ],
   "source": [
    "# dictionary 只會跑Key\n",
    "seq=iter({1:9,'b':9,3.0:9}) #from dict\n",
    "next(seq),next(seq),next(seq)\n",
    "\n",
    "# get StopIteration if we can next() again.\n",
    "# next(seq)"
   ]
  },
  {
   "cell_type": "code",
   "execution_count": 6,
   "metadata": {},
   "outputs": [
    {
     "name": "stdout",
     "output_type": "stream",
     "text": [
      "apple banana\n",
      "True\n"
     ]
    }
   ],
   "source": [
    "# seq = sq2\n",
    "seq = iter(['apple','banana'])\n",
    "sq2 = iter(seq)\n",
    "\n",
    "print(next(seq),next(sq2))\n",
    "print(seq is sq2)"
   ]
  },
  {
   "cell_type": "code",
   "execution_count": 9,
   "metadata": {},
   "outputs": [
    {
     "name": "stdout",
     "output_type": "stream",
     "text": [
      "0 1 2\n",
      "True\n",
      "\n",
      "0 1 2\n",
      "True\n"
     ]
    }
   ],
   "source": [
    "# range is not iterator\n",
    "\n",
    "# x is y for the same iter\n",
    "x = y =iter(range(3))\n",
    "print(next(x),next(x),next(y))\n",
    "print(x is y)\n",
    "\n",
    "print()\n",
    "\n",
    "x = y =iter([0,1,2])\n",
    "print(next(x),next(x),next(y))\n",
    "print(x is y)"
   ]
  },
  {
   "cell_type": "code",
   "execution_count": 7,
   "metadata": {},
   "outputs": [
    {
     "name": "stdout",
     "output_type": "stream",
     "text": [
      "First two in x:  0 1 \n",
      "First one in y:  0\n",
      "Subsequent y,x,y: 1 2 2\n"
     ]
    }
   ],
   "source": [
    "# separate iterator\n",
    "x,y= iter(range(3)), iter(range(3))\n",
    "print(\"First two in x: \",next(x),next(x),\"\\nFirst one in y: \",next(y))\n",
    "print(\"Subsequent y,x,y:\",next(y),next(x),next(y))"
   ]
  },
  {
   "cell_type": "code",
   "execution_count": 8,
   "metadata": {},
   "outputs": [
    {
     "name": "stdout",
     "output_type": "stream",
     "text": [
      "0\n",
      "1\n",
      "4\n",
      "9\n",
      "\n",
      "0 1\n",
      "0\n",
      "4\n",
      "1\n"
     ]
    }
   ],
   "source": [
    "# Python - Generator Functions\n",
    "# Python provides a generator to create your own iterator function. \n",
    "# A generator is a special type of function which does not return a single value, \n",
    "# instead, it returns an iterator object with a sequence of values. \n",
    "# In a generator function, a yield statement is used rather than a return statement. \n",
    "\n",
    "def square(x):\n",
    "    for i in range(x):\n",
    "        yield i**2\n",
    "\n",
    "# 可以看到function generator能回傳一連串的 iterator object\n",
    "for i in square(4):\n",
    "    print(i)\n",
    "\n",
    "print()\n",
    "y = square(4)\n",
    "print(next(y),next(y))\n",
    "z = square(2)\n",
    "print(next(z))\n",
    "print(next(y))\n",
    "print(next(z))\n",
    "# print(next(z)) : get Error StopIteration"
   ]
  },
  {
   "cell_type": "code",
   "execution_count": 9,
   "metadata": {},
   "outputs": [
    {
     "name": "stdout",
     "output_type": "stream",
     "text": [
      "[0, 1, 2, 3, ' ', 0, 1, 2, 3, ' ', 'H', 'i']\n"
     ]
    }
   ],
   "source": [
    "# yield from : generate sub \"generator function\"\n",
    "# Typically, “yield from iterable” is used as a shorter way to say: \n",
    "# “for item in iterable: yield item”\n",
    "\n",
    "def g(x):\n",
    "    yield from range(x) # 第一行\n",
    "    yield ' '\n",
    "    for i in range(x) : yield i # 跟g(x)的第一行同理\n",
    "    yield ' '\n",
    "    yield from \"Hi\"\n",
    "\n",
    "print(list(g(4)))"
   ]
  },
  {
   "cell_type": "code",
   "execution_count": 10,
   "metadata": {},
   "outputs": [
    {
     "name": "stdout",
     "output_type": "stream",
     "text": [
      "Inside Function I love GeeksforgeeksGFG\n"
     ]
    }
   ],
   "source": [
    "# 要在某function內使用global variable 要強調 global (變數名稱) \n",
    "\n",
    "# local variables are accessible only inside the function in which it was initialized. \n",
    "# The global variables are accessible throughout the program and inside every function.\n",
    "\n",
    "\n",
    "# This function uses global variable s\n",
    "# 如果global 不見了，會有Error: local variable 's' referenced before\n",
    "def f():\n",
    "    global s # 強調是global variables\n",
    "    s += 'GFG'\n",
    "    print(\"Inside Function\", s)\n",
    "# Global scope\n",
    "s = \"I love Geeksforgeeks\"\n",
    "f() "
   ]
  },
  {
   "cell_type": "code",
   "execution_count": 11,
   "metadata": {},
   "outputs": [
    {
     "name": "stdout",
     "output_type": "stream",
     "text": [
      "1 2\n",
      "In function f(): x,y = 0 0\n"
     ]
    }
   ],
   "source": [
    "# globals 印出全域變數的字典 name:value\n",
    "x,y = 1,2\n",
    "def f():\n",
    "    x =0 \n",
    "    print(globals()['x'],globals()['y'])\n",
    "    y = 0\n",
    "    print(\"In function f(): x,y =\",x,y)\n",
    "\n",
    "f()\n",
    "\n",
    "# PS: 真正上globals() 會印出\n",
    "# {'__name__': '__main__', '__doc__': None, '__package__': None, '__loader__': <class '_frozen_importlib.BuiltinImporter'>, '__spec__': None, '__annotations__': {}, '__builtins__': <module 'builtins' (built-in)>, 'x': 1, 'y': 2, 'f': <function f at 0x6fffffe8c8b0>}\n"
   ]
  },
  {
   "cell_type": "code",
   "execution_count": 12,
   "metadata": {},
   "outputs": [
    {
     "name": "stdout",
     "output_type": "stream",
     "text": [
      "hello\n"
     ]
    }
   ],
   "source": [
    "# nonlocal :\n",
    "# The nonlocal keyword is used to work with variables inside nested functions, \n",
    "# where the variable should not belong to the inner function.\n",
    "# Use the keyword nonlocal to declare that the variable is not local.\n",
    "\n",
    "def myfunc1():\n",
    "  x = \"John\"\n",
    "  def myfunc2():\n",
    "    nonlocal x\n",
    "    x = \"hello\"\n",
    "  myfunc2()\n",
    "  return x\n",
    "\n",
    "print(myfunc1())"
   ]
  },
  {
   "cell_type": "code",
   "execution_count": 13,
   "metadata": {},
   "outputs": [
    {
     "name": "stdout",
     "output_type": "stream",
     "text": [
      "1\n"
     ]
    }
   ],
   "source": [
    "def f():\n",
    "    print(x)\n",
    "x = 1 # x is global variable\n",
    "f()"
   ]
  },
  {
   "cell_type": "code",
   "execution_count": 14,
   "metadata": {},
   "outputs": [
    {
     "name": "stdout",
     "output_type": "stream",
     "text": [
      "Value of total:  30\n",
      "Value of total:  40\n",
      "Value of total:  100\n"
     ]
    }
   ],
   "source": [
    "# A lambda function is a small anonymous function.\n",
    "# A lambda function can take any number of arguments, but can only have one expression.\n",
    "\n",
    "# Syntax: \n",
    "# lambda arguments : expression\n",
    "\n",
    "sum = lambda arg1, arg2 : arg1+arg2\n",
    "print (\"Value of total: \", sum( 10, 20 )) \n",
    "print (\"Value of total: \", sum( 20, 20 ))\n",
    "print (\"Value of total: \", sum( 50, 50 ))"
   ]
  },
  {
   "cell_type": "code",
   "execution_count": 15,
   "metadata": {},
   "outputs": [
    {
     "name": "stdout",
     "output_type": "stream",
     "text": [
      "3311\n"
     ]
    }
   ],
   "source": [
    "# lambda 跟 巨集 有點不一樣\n",
    "a = 1000; b =100; c=10; d =1\n",
    "sum = lambda a,b : a+b+c+d\n",
    "def f():\n",
    "    a = 2000;b=200; c=20\n",
    "    print(sum (3000,300))\n",
    "\n",
    "f()"
   ]
  },
  {
   "cell_type": "code",
   "execution_count": 16,
   "metadata": {},
   "outputs": [
    {
     "name": "stdout",
     "output_type": "stream",
     "text": [
      "An exception occurred\n"
     ]
    }
   ],
   "source": [
    "# try-except: try看看有沒有 Error，有就進入到except區塊\n",
    "# 下面範例是 \n",
    "# 輸入一個值，並轉型成int datatype ，如果失敗會印出\"An exception occurred\"、成功是印出值\n",
    "x = input()\n",
    "try:\n",
    "  x= int(x)\n",
    "  print(x)\n",
    "except:\n",
    "  print(\"An exception occurred\")"
   ]
  },
  {
   "cell_type": "code",
   "execution_count": 10,
   "metadata": {},
   "outputs": [
    {
     "name": "stdout",
     "output_type": "stream",
     "text": [
      "again     Hi,finally block.\n",
      "again     Hi,finally block.\n",
      "End while.    Hi,finally block.\n",
      "Final value of x:  2\n"
     ]
    }
   ],
   "source": [
    "# template:\n",
    "# try:\n",
    "#     # 你要執行的程式\n",
    "# except <錯誤類型1>:\n",
    "#     # 發生錯誤時要執行的程式\n",
    "# except <錯誤類型2>:\n",
    "#     # 發生錯誤時要執行的程式\n",
    "# else : 做法和之前提過的else一樣，就是在try執行完畢且\"沒有錯誤\"的情況下就會到這部分\n",
    "# finally : 不管\"有沒有發生錯誤\"都會執行\n",
    "\n",
    "while(1):\n",
    "    x = input()\n",
    "    try:\n",
    "        x = int(x)\n",
    "    except:\n",
    "        print(\"again\",end=\"     \")\n",
    "    else:\n",
    "        print(\"End while.\",end = \"    \")\n",
    "        break\n",
    "    finally:\n",
    "        print(\"Hi,finally block.\")\n",
    "print(\"Final value of x: \",x)"
   ]
  },
  {
   "cell_type": "code",
   "execution_count": null,
   "metadata": {},
   "outputs": [
    {
     "name": "stdout",
     "output_type": "stream",
     "text": [
      "One of three errors detected.\n",
      "ErrorType:  <class 'NameError'>\n",
      "ErrorMessage:  name 'junk' is not defined\n"
     ]
    }
   ],
   "source": [
    "z = int(input(\"Enter a number:  \")) \n",
    "try: \n",
    "   if (z<1): 10 * (1/z)\n",
    "   if (z<2): 4 + junk*3\n",
    "   if (z<3): '2' + 2\n",
    "except (ZeroDivisionError,NameError,TypeError) as message: # 抓出錯誤訊息\n",
    "   print(\"One of three errors detected.\")\n",
    "   print(\"ErrorType: \",type(message))    # the exception type\n",
    "   print(\"ErrorMessage: \",message) # message.args 代表同樣意思"
   ]
  },
  {
   "cell_type": "code",
   "execution_count": 17,
   "metadata": {},
   "outputs": [
    {
     "name": "stdout",
     "output_type": "stream",
     "text": [
      "In except block:  # too big\n",
      "Done\n"
     ]
    }
   ],
   "source": [
    "# The raise statement allows the programmer to force a specified exception to occur.\n",
    "# You can define what kind of error to raise, and the text to print to the user.\n",
    "\n",
    "def division():\n",
    "    x=float(input(\"Enter a # < 5: \"))\n",
    "    if (x>=5):\n",
    "        raise SyntaxError(\"# too big\")\n",
    "    print(\"8 /\", x, \" =\" ,8/x)\n",
    "\n",
    "try:    \n",
    "    division()\n",
    "except SyntaxError as error:\n",
    "    print(\"In except block: \",error)\n",
    "    raise\n",
    "except:\n",
    "    print (\"Other error.\")\n",
    "print(\"Done\")\n"
   ]
  },
  {
   "cell_type": "code",
   "execution_count": 23,
   "metadata": {},
   "outputs": [
    {
     "name": "stdout",
     "output_type": "stream",
     "text": [
      "8 / 2.0  = 4.0\n",
      "8 / 2.0  = 4.0\n",
      "main caught an error\n"
     ]
    },
    {
     "ename": "ZeroDivisionError",
     "evalue": "float division by zero",
     "output_type": "error",
     "traceback": [
      "\u001b[1;31m---------------------------------------------------------------------------\u001b[0m",
      "\u001b[1;31mZeroDivisionError\u001b[0m                         Traceback (most recent call last)",
      "Cell \u001b[1;32mIn[23], line 27\u001b[0m\n\u001b[0;32m     25\u001b[0m \u001b[39mtry\u001b[39;00m:\n\u001b[0;32m     26\u001b[0m     f1()\n\u001b[1;32m---> 27\u001b[0m     f3()\n\u001b[0;32m     28\u001b[0m \u001b[39mexcept\u001b[39;00m:\n\u001b[0;32m     29\u001b[0m     \u001b[39mprint\u001b[39m(\u001b[39m\"\u001b[39m\u001b[39mmain caught an error\u001b[39m\u001b[39m\"\u001b[39m)\n",
      "Cell \u001b[1;32mIn[23], line 14\u001b[0m, in \u001b[0;36mf3\u001b[1;34m()\u001b[0m\n\u001b[0;32m     13\u001b[0m \u001b[39mdef\u001b[39;00m \u001b[39mf3\u001b[39m():\n\u001b[1;32m---> 14\u001b[0m     division()\n",
      "Cell \u001b[1;32mIn[23], line 12\u001b[0m, in \u001b[0;36mdivision\u001b[1;34m()\u001b[0m\n\u001b[0;32m     10\u001b[0m x\u001b[39m=\u001b[39m\u001b[39mfloat\u001b[39m(\u001b[39minput\u001b[39m(\u001b[39m\"\u001b[39m\u001b[39mEnter a # < 5: \u001b[39m\u001b[39m\"\u001b[39m))\n\u001b[0;32m     11\u001b[0m \u001b[39mif\u001b[39;00m (x\u001b[39m>\u001b[39m\u001b[39m=\u001b[39m\u001b[39m5\u001b[39m):  \u001b[39mraise\u001b[39;00m \u001b[39mSyntaxError\u001b[39;00m(\u001b[39m\"\u001b[39m\u001b[39m# too big\u001b[39m\u001b[39m\"\u001b[39m)\n\u001b[1;32m---> 12\u001b[0m \u001b[39mprint\u001b[39m(\u001b[39m\"\u001b[39m\u001b[39m8 /\u001b[39m\u001b[39m\"\u001b[39m,x,\u001b[39m\"\u001b[39m\u001b[39m =\u001b[39m\u001b[39m\"\u001b[39m,\u001b[39m8\u001b[39;49m\u001b[39m/\u001b[39;49mx)\n",
      "\u001b[1;31mZeroDivisionError\u001b[0m: float division by zero"
     ]
    }
   ],
   "source": [
    "# Explain:\n",
    "# 1. first we call division() in main\n",
    "# 2. we can get ValueError or SyntaxError(raise) or ZeroDivisionError (8/x)\n",
    "# 3. x< 5: 結束division()\n",
    "# 4. 看f1()有沒有抓到錯誤\n",
    "# 5. f1()沒抓到錯誤 才跑f3()\n",
    "# 6.都沒抓到錯誤 就會跑3次 division()\n",
    "\n",
    "def division():\n",
    "    x=float(input(\"Enter a # < 5: \"))\n",
    "    if (x>=5):  raise SyntaxError(\"# too big\")\n",
    "    print(\"8 /\",x,\" =\",8/x)\n",
    "def f3():\n",
    "    division()\n",
    "def f2():\n",
    "    try:\n",
    "        f3()\n",
    "    except SyntaxError as error:\n",
    "        print(\"f2() caught:\",error)\n",
    "        raise\n",
    "def f1():\n",
    "    f2()\n",
    "\n",
    "division()\n",
    "try:\n",
    "    f1()\n",
    "    f3()\n",
    "except:\n",
    "    print(\"main caught an error\")\n",
    "    raise"
   ]
  },
  {
   "cell_type": "code",
   "execution_count": 24,
   "metadata": {},
   "outputs": [
    {
     "ename": "AssertionError",
     "evalue": "x isn't 6",
     "output_type": "error",
     "traceback": [
      "\u001b[1;31m---------------------------------------------------------------------------\u001b[0m",
      "\u001b[1;31mAssertionError\u001b[0m                            Traceback (most recent call last)",
      "Cell \u001b[1;32mIn[24], line 8\u001b[0m\n\u001b[0;32m      6\u001b[0m x \u001b[39m=\u001b[39m\u001b[39m5\u001b[39m\n\u001b[0;32m      7\u001b[0m \u001b[39massert\u001b[39;00m x\u001b[39m==\u001b[39m\u001b[39m5\u001b[39m , \u001b[39m\"\u001b[39m\u001b[39mx isn\u001b[39m\u001b[39m'\u001b[39m\u001b[39mt 5\u001b[39m\u001b[39m\"\u001b[39m\n\u001b[1;32m----> 8\u001b[0m \u001b[39massert\u001b[39;00m x\u001b[39m==\u001b[39m\u001b[39m6\u001b[39m , \u001b[39m\"\u001b[39m\u001b[39mx isn\u001b[39m\u001b[39m'\u001b[39m\u001b[39mt 6\u001b[39m\u001b[39m\"\u001b[39m\n\u001b[0;32m     10\u001b[0m \u001b[39massert\u001b[39;00m \u001b[39m0\u001b[39m,\u001b[39m512\u001b[39m\n",
      "\u001b[1;31mAssertionError\u001b[0m: x isn't 6"
     ]
    }
   ],
   "source": [
    "# assert: \n",
    "# 條件是真的話，正常執行。\n",
    "# 但條件為假，會raise an Error\n",
    "\n",
    "# 後面可以放兩個東西 (1.條件 2.Error Message)\n",
    "x =5\n",
    "assert x==5 , \"x isn't 5\"\n",
    "assert x==6 , \"x isn't 6\""
   ]
  },
  {
   "cell_type": "code",
   "execution_count": 26,
   "metadata": {},
   "outputs": [
    {
     "ename": "AssertionError",
     "evalue": "512",
     "output_type": "error",
     "traceback": [
      "\u001b[1;31m---------------------------------------------------------------------------\u001b[0m",
      "\u001b[1;31mAssertionError\u001b[0m                            Traceback (most recent call last)",
      "Cell \u001b[1;32mIn[26], line 1\u001b[0m\n\u001b[1;32m----> 1\u001b[0m \u001b[39massert\u001b[39;00m \u001b[39m0\u001b[39m , \u001b[39m512\u001b[39m\n",
      "\u001b[1;31mAssertionError\u001b[0m: 512"
     ]
    }
   ],
   "source": [
    "# 0 for false , other number for true\n",
    "\n",
    "\n",
    "# 逗號前面是條件，後面是錯誤訊息\n",
    "assert 0 , 512"
   ]
  },
  {
   "cell_type": "code",
   "execution_count": null,
   "metadata": {},
   "outputs": [
    {
     "name": "stdout",
     "output_type": "stream",
     "text": [
      "HELLO WORLD\n",
      "dlrow olleh\n"
     ]
    }
   ],
   "source": [
    "# callback function -> 讓程式更有彈性\n",
    "def process_data(data, transform_callback):\n",
    "    transformed_data = transform_callback(data) # 呼叫callback function\n",
    "    return transformed_data\n",
    "def uppercase(data):\n",
    "    return data.upper()\n",
    "\n",
    "def reverse(data):\n",
    "    return data[::-1]\n",
    "\n",
    "# main\n",
    "data = \"hello world\"\n",
    "result1 = process_data(data,uppercase)\n",
    "print(result1)\n",
    "\n",
    "result2 = process_data(data,reverse)\n",
    "print(result2)"
   ]
  },
  {
   "attachments": {},
   "cell_type": "markdown",
   "metadata": {},
   "source": [
    "### Lecture 9"
   ]
  },
  {
   "cell_type": "code",
   "execution_count": null,
   "metadata": {},
   "outputs": [
    {
     "name": "stdout",
     "output_type": "stream",
     "text": [
      "Read String is : python is great.Y\n"
     ]
    }
   ],
   "source": [
    "# file.py\n",
    "fo = open(\"foo.txt\",\"w\")\n",
    "fo.write(\"python is great.\")\n",
    "fo.write(\"Yeah it's great!!\\r\\n\" )\n",
    "fo = open(\"foo.txt\", \"r\" ) \n",
    "str1 = fo.read(17); \n",
    "print (\"Read String is :\", str1) \n",
    "fo.close()"
   ]
  },
  {
   "cell_type": "code",
   "execution_count": 27,
   "metadata": {},
   "outputs": [],
   "source": [
    "fo=open(\"file1.txt\",\"w\")\n",
    "fo.write(\"hello\")\n",
    "\n",
    "x=fo.write(\"hello\")#store to x to suppress ‘5’\n",
    "x=fo.write(\"hi\\n\")\n",
    "x=fo.write(\"l2\\n\")\n",
    "x=fo.write(\"l3\\n\")\n",
    "fo.close() #<=This would’ve auto-happened anyway\n"
   ]
  },
  {
   "cell_type": "code",
   "execution_count": 28,
   "metadata": {},
   "outputs": [
    {
     "name": "stdout",
     "output_type": "stream",
     "text": [
      "hellohellohi\n",
      "\n",
      "l2\n",
      "\n",
      "l3\n",
      "\n"
     ]
    }
   ],
   "source": [
    "# readline 一次讀一行\n",
    "fo = open(\"file1.txt\",\"r\")\n",
    "x = fo.readline()\n",
    "print(x)\n",
    "x = fo.readline()\n",
    "print(x)\n",
    "x = fo.readline()\n",
    "print(x)\n",
    "\n",
    "# with open('file1.txt','r) as f\n",
    "# more useable way to open the file\n",
    "# because it guaranteed the file will close in any situation."
   ]
  },
  {
   "cell_type": "code",
   "execution_count": null,
   "metadata": {},
   "outputs": [
    {
     "name": "stdout",
     "output_type": "stream",
     "text": [
      "abs(x)= 5\n",
      "abs(x)= 3\n",
      "90\n",
      "100\n"
     ]
    }
   ],
   "source": [
    "# condition expression\n",
    "x = 5\n",
    "print(\"abs(x)=\", x if (x>0) else -x) \n",
    "x = -3\n",
    "print(\"abs(x)=\", x if (x>0) else -x)\n",
    "\n",
    "clipsum=lambda arg1,arg2: arg1+arg2 if arg1+arg2<100 else 100\n",
    "print(clipsum(40,50))\n",
    "print(clipsum(60,50))"
   ]
  },
  {
   "cell_type": "code",
   "execution_count": null,
   "metadata": {},
   "outputs": [
    {
     "name": "stdout",
     "output_type": "stream",
     "text": [
      "[1, 2, '1', '2', '3', {1: 0}, {2: 1, 1: 0}]\n",
      "[0, 1, 2]\n"
     ]
    }
   ],
   "source": [
    "# filter(function or None , iterable) :\n",
    "# 將iterable傳進function，回傳符合那個function的條件\n",
    "# 若function = None(傳了None)，就檢查那個iterable裡面為 真的元素\n",
    "L = [0,1,2,\"\",\"1\",\"2\",\"3\",{},{1:0},{2:1,1:0}]\n",
    "print(list(filter(None,L)))\n",
    "\n",
    "def isInt(x): return type(x)==int\n",
    "print(list(filter(isInt,L)))"
   ]
  },
  {
   "cell_type": "code",
   "execution_count": 123,
   "metadata": {},
   "outputs": [
    {
     "name": "stdout",
     "output_type": "stream",
     "text": [
      "[2, 3, 5, 7, 11, 13]\n",
      "[1, 2, 3, 5, 6, 8, 9, 11, 14]\n",
      "List 2x+1, x=[1,15):  [1, 3, 5, 7, 9, 11, 13, 15, 17, 19, 21, 23, 25, 27, 29]\n",
      "[3, 5, 7, 11, 13, 17, 19, 23, 29]\n"
     ]
    }
   ],
   "source": [
    "from math import sqrt , gcd , floor\n",
    "def prime(a):\n",
    "    \"\"\"Test if the argument is prime (質數)\"\"\"\n",
    "    if a<2: return False\n",
    "    for i in range(2,floor(sqrt(a))+1):\n",
    "        if gcd(i,a) > 1: return False\n",
    "    return True\n",
    "\n",
    "print(list(filter(prime, range(15)))) #all primes < 15\n",
    "print(list(filter(lambda x:prime(2*x+1), range(15)))) # x=1~15，找2x+1是質數的\n",
    "# 2x+1 x從1~15 得到 15項\n",
    "print(\"List 2x+1, x=[1,15): \",[2*x+1 for x in range(15)])\n",
    "print(list(filter(prime,[2*x+1 for x in range(15)])))"
   ]
  },
  {
   "cell_type": "code",
   "execution_count": null,
   "metadata": {},
   "outputs": [
    {
     "name": "stdout",
     "output_type": "stream",
     "text": [
      "[3, 6, 9]\n",
      "[{1: 2}, {2: 4}, {3: 6}, {4: 8}]\n",
      "{8, 1, 27}\n",
      "{1: 1, 2: 16, 3: 81}\n",
      "\n",
      "['A1', 'A2', 'A3', 'A4', 'B1', 'B2', 'B3', 'B4', 'C1', 'C2', 'C3', 'C4']\n",
      "['AB', '12']\n",
      "[3, 7, 11]\n"
     ]
    }
   ],
   "source": [
    "# comprehension\n",
    "print([x*3 for x in (1,2,3)]) # list comprehension\n",
    "print([{x:x*2} for x in (1,2,3,4)]) # dictionary comprehension, but change datatype to list\n",
    "print({x**3 for x in (1,2,3)}) # set comprehension\n",
    "print({x:x**4 for x in (1,2,3)}) # dictionary comprehension\n",
    "\n",
    "# Tuple 和 String 沒有 comprehension\n",
    "\n",
    "print()\n",
    "# nested loop in comprehension\n",
    "vec1 = ['A','B','C']\n",
    "vec2 = ['1','2','3', '4']\n",
    "print([x+y for x in vec1 for y in vec2])\n",
    "\n",
    "# parallel but not nested loop\n",
    "print([x+y for x,y in (\"AB\",\"12\")])\n",
    "print([ x+y for x,y in[[1,2], (3,4), {5,6}] ])"
   ]
  },
  {
   "cell_type": "code",
   "execution_count": null,
   "metadata": {},
   "outputs": [
    {
     "name": "stdout",
     "output_type": "stream",
     "text": [
      "[12, 18]\n",
      "[1, 3, 5, 7, 9, 11, 13, 15, 17, 19]\n"
     ]
    }
   ],
   "source": [
    "# comprehension + if condition\n",
    "vec = [2,4,6]\n",
    "print([3*x for x in vec if x>3])\n",
    "print([i for i in range(20) if i%2 ==1]) #找1~20中的奇數"
   ]
  },
  {
   "cell_type": "code",
   "execution_count": 124,
   "metadata": {},
   "outputs": [
    {
     "name": "stdout",
     "output_type": "stream",
     "text": [
      "[1, 2, 3, 4, 5, 6, 7, 8]\n",
      "<generator object <genexpr> at 0x0000013B3849CBA0>\n",
      "[1, 2, 3]\n",
      "[0, 1, 2]\n"
     ]
    }
   ],
   "source": [
    "# There are Generator Expressions:\n",
    "iterator = (i for i in range(1,9)) \n",
    "           # This is not a tuple.\n",
    "           # There is no tuple comprehension.\n",
    "print(list(iterator))\n",
    "\n",
    "genex = (i for i in (1,2,3))\n",
    "print(genex)\n",
    "#print(next(genex)) # 1\n",
    "print([i for i in genex])\n",
    "\n",
    "# Plain iterators:\n",
    "print([i for i in iter(range(3))])"
   ]
  },
  {
   "cell_type": "code",
   "execution_count": 34,
   "metadata": {},
   "outputs": [
    {
     "name": "stdout",
     "output_type": "stream",
     "text": [
      "Y\n",
      "S\n",
      "E\n"
     ]
    }
   ],
   "source": [
    "# iter() and reversed() is a iterator\n",
    "print(next(iter('YES')))\n",
    "print(next(reversed('YES')))\n",
    "\n",
    "# sorted() will return a list,not a iterator\n",
    "# print(next(sorted('YES'))) #TypeError: 'list' object is not an iterator\n",
    "print(next ( iter( sorted('YES') ) ) )"
   ]
  },
  {
   "cell_type": "code",
   "execution_count": null,
   "metadata": {},
   "outputs": [
    {
     "name": "stdout",
     "output_type": "stream",
     "text": [
      "[0, 3, 4, 5, 6, 8]\n",
      "[4, 1, 4, 7, 1, 6, 7]\n",
      "[3, 3, 0, 0, 1, 3, 3]\n",
      "[True, True]\n"
     ]
    }
   ],
   "source": [
    "from random import randrange as Rn\n",
    "Ns = range(10)\n",
    "print([x for x in Ns if Rn(9)<5])\n",
    "print([Rn(9) for x in Ns if Rn(9)<5])\n",
    "print([y for x in Ns if (y:=Rn(9))<5])\n",
    "print([y for x in Ns if (y:=Rn(9)<5)]) # save as expression\n",
    "\n",
    "# := 類似指派運算子"
   ]
  },
  {
   "attachments": {},
   "cell_type": "markdown",
   "metadata": {},
   "source": [
    "### Lecture 10 ###"
   ]
  },
  {
   "cell_type": "code",
   "execution_count": 1,
   "metadata": {},
   "outputs": [
    {
     "name": "stdout",
     "output_type": "stream",
     "text": [
      "    24,162,847 usec\n"
     ]
    }
   ],
   "source": [
    "from x import prime\n",
    "from timer import timer\n",
    "from time import sleep\n",
    "def f(x):\n",
    "    sleep(1)\n",
    "    return x\n",
    "\n",
    "timer()\n",
    "[2*f(x)+1 for x in range(15) if prime(2*f(x)+1)]\n",
    "timer(\"STOP\")"
   ]
  },
  {
   "cell_type": "code",
   "execution_count": 2,
   "metadata": {},
   "outputs": [
    {
     "name": "stdout",
     "output_type": "stream",
     "text": [
      "    15,110,192 usec\n"
     ]
    }
   ],
   "source": [
    "timer()\n",
    "[y for x in range(15) if prime(y:=2*f(x)+1)]\n",
    "timer(\"STOP\")"
   ]
  },
  {
   "cell_type": "code",
   "execution_count": 35,
   "metadata": {},
   "outputs": [
    {
     "name": "stdout",
     "output_type": "stream",
     "text": [
      "15\n",
      "15\n"
     ]
    }
   ],
   "source": [
    "# reduce(function, iterable[, initializer])\n",
    "# function 需要有兩個參數\n",
    "# iterable 可迭代對象\n",
    "# initializer -- 可选，初始参数\n",
    "from functools import reduce\n",
    "\n",
    "def add(x, y) :            # 两数相加\n",
    "    return x + y\n",
    "sum1 = reduce(add, [1,2,3,4,5])   # 计算列表和：1+2+3+4+5\n",
    "sum2 = reduce(lambda x, y: x+y, [1,2,3,4,5])  # 使用 lambda 匿名函数\n",
    "print(sum1)\n",
    "print(sum2)"
   ]
  },
  {
   "cell_type": "code",
   "execution_count": 36,
   "metadata": {},
   "outputs": [
    {
     "name": "stdout",
     "output_type": "stream",
     "text": [
      "106\n",
      "115\n",
      "6\n",
      "106\n"
     ]
    }
   ],
   "source": [
    "# partial\n",
    "from functools import partial\n",
    "\n",
    "# 第一種做法：\n",
    "def add(*args):\n",
    "    return sum(args)\n",
    "\n",
    "print(add(1, 2, 3) + 100)\n",
    "print(add(5, 5, 5) + 100)\n",
    "\n",
    "print(sum((1,2,3))) # sum() 可以用在tuple\n",
    "\n",
    "# 用partial\n",
    "def add(*args):\n",
    "    return sum(args)\n",
    "\n",
    "add_100 = partial(add, 100) # 100也被傳進變數了\n",
    "print(add_100(1, 2, 3))  # 106"
   ]
  },
  {
   "cell_type": "code",
   "execution_count": 4,
   "metadata": {},
   "outputs": [
    {
     "name": "stdout",
     "output_type": "stream",
     "text": [
      "3145\n"
     ]
    }
   ],
   "source": [
    "# partial\n",
    "from functools import partial\n",
    "  \n",
    "# A normal function\n",
    "def f(a, b, c, x):\n",
    "    return 1000*a + 100*b + 10*c + x\n",
    "  \n",
    "# A partial function that calls f with\n",
    "# a as 3, b as 1 and c as 4.\n",
    "g = partial(f, 3, 1, 4)\n",
    "  \n",
    "# Calling g()\n",
    "print(g(5))"
   ]
  },
  {
   "attachments": {},
   "cell_type": "markdown",
   "metadata": {},
   "source": [
    "### Lecture 11 ###"
   ]
  },
  {
   "cell_type": "code",
   "execution_count": 9,
   "metadata": {},
   "outputs": [
    {
     "name": "stdout",
     "output_type": "stream",
     "text": [
      "[13, 10, 7, 4]\n",
      "[13, 10, 7, 4]\n"
     ]
    }
   ],
   "source": [
    "# slice: list 切片\n",
    "sliceset = slice(13,2,-3)\n",
    "print(list(range(20)[13:2:-3]))\n",
    "print(list(range(20)[sliceset]))"
   ]
  },
  {
   "cell_type": "code",
   "execution_count": 10,
   "metadata": {},
   "outputs": [],
   "source": [
    "# exec(): statesment\n",
    "# exec() 可以放入「多行字串」，並把輸入的字串，轉換成可執行的程式碼後並執行\n",
    "# exec() 可以做運算\n",
    "\n",
    "# eval(): expression\n",
    "# eval() 可以放入「一行字串」，並把輸入的字串，轉換成可執行的程式碼後並執行"
   ]
  },
  {
   "cell_type": "code",
   "execution_count": 13,
   "metadata": {},
   "outputs": [
    {
     "name": "stdout",
     "output_type": "stream",
     "text": [
      "{1, 2, (1,)}\n",
      "{1, 2, (1,)}\n",
      "True\n"
     ]
    }
   ],
   "source": [
    "# repr() :do like a str()，but it an oppsite of eval()\n",
    "s = repr({1,2,(1,)})\n",
    "print(s)\n",
    "new_s = eval(s)\n",
    "print(new_s)\n",
    "\n",
    "x = {1,2,(1,)}\n",
    "print(eval(repr(x)) == x)"
   ]
  },
  {
   "cell_type": "code",
   "execution_count": 43,
   "metadata": {},
   "outputs": [
    {
     "name": "stdout",
     "output_type": "stream",
     "text": [
      "42\n",
      "12\n",
      "1\n"
     ]
    }
   ],
   "source": [
    "# compile()\n",
    "# first paremeter: source code: python module、statesment、expression\n",
    "# the code object\n",
    "# mode: eval() or exec() --用哪種執行\n",
    "print_exec=compile('print(42)','<string>','single')\n",
    "exec(print_exec)\n",
    "exec(compile('print(1,end=\"\");print(2)','<string>','exec'))\n",
    "\n",
    "var_exec = compile('print(X)','<string>','exec')\n",
    "X=1;exec(var_exec)#No error if X defined B4 exec’d"
   ]
  },
  {
   "cell_type": "code",
   "execution_count": 17,
   "metadata": {},
   "outputs": [
    {
     "name": "stdout",
     "output_type": "stream",
     "text": [
      "True\n"
     ]
    }
   ],
   "source": [
    "# Frozen Set\n",
    "\n",
    "# Normal set is unorder、mutable set，and set element is immutable\n",
    "# but we can create mutable set by frozen set\n",
    "print(set('abc')==frozenset('abc')) # can compare with"
   ]
  },
  {
   "cell_type": "code",
   "execution_count": 47,
   "metadata": {},
   "outputs": [
    {
     "name": "stdout",
     "output_type": "stream",
     "text": [
      "{'h': 'i', frozenset({2}): 1, (): {}}\n"
     ]
    }
   ],
   "source": [
    "# dictionary key must be immutable\n",
    "# d = {1:2,[2]:3} # TypeError: unhashable type: 'list'\n",
    "d = { 'h':'i', frozenset({2}):1, ():{}}\n",
    "print(d)"
   ]
  },
  {
   "cell_type": "code",
   "execution_count": 8,
   "metadata": {},
   "outputs": [
    {
     "name": "stdout",
     "output_type": "stream",
     "text": [
      "b'A'\n",
      "65\n",
      "0x41\n"
     ]
    }
   ],
   "source": [
    "# bytes(s,en): use encoding en to convert string s to an immutable byte sequence\n",
    "# bytearray(s,en): use encoding en to convert string s to an mutable byte sequence\n",
    "\n",
    "hex(ord('A')) # 0x41\n",
    "chr(0x41) # A\n",
    "a = bytes('A', 'ascii')\n",
    "print(a)\n",
    "print(*a)\n",
    "print(hex(*a))\n",
    "\n",
    "# bytearray are mutable type"
   ]
  },
  {
   "cell_type": "code",
   "execution_count": 49,
   "metadata": {},
   "outputs": [
    {
     "name": "stdout",
     "output_type": "stream",
     "text": [
      "b'B'\n",
      "B\n",
      "b'ABC'\n",
      "[65, 66, 67]\n"
     ]
    }
   ],
   "source": [
    "# bytes('A','ascii') : 將'A'轉成ascii編碼\n",
    "# b'65'\n",
    "\n",
    "# use .decode() to converted\n",
    "s = bytes('B','ascii')\n",
    "print(s)\n",
    "print(s.decode())\n",
    "\n",
    "print()\n",
    "\n",
    "# PS: bytes() will return a strings\n",
    "s2 = bytes('ABC','ascii')\n",
    "print(s2)\n",
    "print([*s2]) # because it is a string,so we can splat(*) it."
   ]
  },
  {
   "cell_type": "code",
   "execution_count": 50,
   "metadata": {},
   "outputs": [
    {
     "name": "stdout",
     "output_type": "stream",
     "text": [
      "greeting1 :  b'Hello'\n",
      "greeting2 :  bytearray(b'Hello')\n",
      "True False\n"
     ]
    }
   ],
   "source": [
    "greeting1 = bytes('Hello','ascii')\n",
    "greeting2 = bytearray('Hello','ascii')\n",
    "\n",
    "print(\"greeting1 : \",greeting1)\n",
    "print(\"greeting2 : \",greeting2)\n",
    "\n",
    "# 代表內容一樣，但實際不太一樣\n",
    "print(greeting1==greeting2, greeting1 is greeting2)"
   ]
  },
  {
   "cell_type": "code",
   "execution_count": 14,
   "metadata": {},
   "outputs": [
    {
     "name": "stdout",
     "output_type": "stream",
     "text": [
      "False\n",
      "True\n",
      "True\n"
     ]
    }
   ],
   "source": [
    "print(list(range(9)) == tuple(range(9)))\n",
    "print(set(range(9)) == frozenset(range(9)))\n",
    "print(bytes(range(9)) == bytearray(range(9)))"
   ]
  },
  {
   "cell_type": "code",
   "execution_count": 51,
   "metadata": {},
   "outputs": [
    {
     "name": "stdout",
     "output_type": "stream",
     "text": [
      "[226, 153, 158]\n",
      "<memory at 0x0000013B37EFEC80>\n",
      "[226, 153, 158]\n",
      "True False\n",
      "♝\n",
      "bytearray(b'\\xe2\\x99\\x9c')\n",
      "♜\n",
      "['e', '2', '9', '9', '9', 'c']\n"
     ]
    }
   ],
   "source": [
    "k =bytearray(b'\\xe2\\x99\\x9e')\n",
    "print([*k]) # [226, 153, 158]\n",
    "mv=memoryview(k) \n",
    "print(mv) # memory address\n",
    "print([*mv]) #[226, 153, 158]\n",
    "\n",
    "print(mv==k, mv is k) # True False\n",
    "mv[2]=157\n",
    "print(k.decode()) # ♝ -> [226, 153, 158]\n",
    "k[2] = 0x9c\n",
    "print(k) # bytearray(b'\\xe2\\x99\\x9c')\n",
    "print(k.decode()) # ♜\n",
    "print([*mv.hex()])"
   ]
  },
  {
   "cell_type": "code",
   "execution_count": 40,
   "metadata": {},
   "outputs": [
    {
     "name": "stdout",
     "output_type": "stream",
     "text": [
      "♞\n",
      "♝\n",
      "♜\n"
     ]
    },
    {
     "ename": "TypeError",
     "evalue": "cannot modify read-only memory",
     "output_type": "error",
     "traceback": [
      "\u001b[1;31m---------------------------------------------------------------------------\u001b[0m",
      "\u001b[1;31mTypeError\u001b[0m                                 Traceback (most recent call last)",
      "Cell \u001b[1;32mIn[40], line 12\u001b[0m\n\u001b[0;32m     10\u001b[0m \u001b[39mprint\u001b[39m(K\u001b[39m.\u001b[39mdecode())\n\u001b[0;32m     11\u001b[0m mv\u001b[39m=\u001b[39m\u001b[39mmemoryview\u001b[39m(K) \u001b[39m# Changing mv will free its memory.\u001b[39;00m\n\u001b[1;32m---> 12\u001b[0m mv[\u001b[39m2\u001b[39;49m]\u001b[39m=\u001b[39m\u001b[39m156\u001b[39m    \u001b[39m# It worked before.\u001b[39;00m\n\u001b[0;32m     13\u001b[0m \u001b[39m# 因為byte是 immutable type\u001b[39;00m\n",
      "\u001b[1;31mTypeError\u001b[0m: cannot modify read-only memory"
     ]
    }
   ],
   "source": [
    "# Here we see that dangling pointers are avoided:\n",
    "K=bytearray('♞','utf8')\n",
    "mv=memoryview(K)\n",
    "K=bytes('♜','utf8')  # anytime you use “=” it’s new\n",
    "print(bytearray(mv).decode()) # 舊的K\n",
    "\n",
    "# Here we see that the old memory is still useable:\n",
    "mv[2]=157; print(bytearray(mv).decode())\n",
    "\n",
    "print(K.decode())\n",
    "mv=memoryview(K) # Changing mv will free its memory.\n",
    "mv[2]=156    # It worked before.\n",
    "# 因為byte是 immutable type"
   ]
  },
  {
   "cell_type": "code",
   "execution_count": 71,
   "metadata": {},
   "outputs": [
    {
     "name": "stdout",
     "output_type": "stream",
     "text": [
      "[0, 1, 2, 3, 4, 5, 6, 7, 8, 9, 10, 11]\n",
      "[11, 10, 9, 8, 7, 6, 5, 4, 3, 2, 1, 0]\n",
      "[0, 1, 2, 3, 4, 5, 6, 7, 8, 9, 10, 11]\n",
      "\n",
      "partReversed:\n",
      "[9, 8, 7, 6, 5, 4, 3, 2, 1]\n",
      "[0, 1, 2, 3, 4, 5, 6, 7, 8, 9, 10, 11]\n"
     ]
    }
   ],
   "source": [
    "def reversedBadx2(p):\n",
    "    p= reversed(p) # return a copy of reversed list\n",
    "    print(list(p))\n",
    "\n",
    "L = [i for i in range(12)]\n",
    "print(L)\n",
    "reversedBadx2(L)\n",
    "print(L)\n",
    "\n",
    "print(\"\\npartReversed:\")\n",
    "reversedBadx2(L[1:10]) \n",
    "print(L)"
   ]
  },
  {
   "cell_type": "code",
   "execution_count": 76,
   "metadata": {},
   "outputs": [
    {
     "name": "stdout",
     "output_type": "stream",
     "text": [
      "\n",
      "partReversed:\n",
      "[9, 8, 7, 6, 5, 4, 3, 2, 1]\n",
      "[0, 1, 2, 3, 4, 5, 6, 7, 8, 9, 10, 11]\n",
      "\n",
      "If no slice, work correctly: \n",
      "[11, 10, 9, 8, 7, 6, 5, 4, 3, 2, 1, 0]\n",
      "[11, 10, 9, 8, 7, 6, 5, 4, 3, 2, 1, 0]\n",
      "[0, 1, 2, 3, 4, 5, 6, 7, 8, 9, 10, 11]\n"
     ]
    }
   ],
   "source": [
    "def reversedBad(p):\n",
    "    p[:]= reversed(p) # replace in the elements\n",
    "    print(p)\n",
    "\n",
    "L = [i for i in range(12)]\n",
    "\n",
    "print(\"\\npartReversed:\")\n",
    "reversedBad(L[1:10]) \n",
    "print(L)\n",
    "\n",
    "print(\"\\nIf no slice, work correctly: \")\n",
    "reversedBad(L)\n",
    "print(L)\n",
    "reversedBad(L)"
   ]
  },
  {
   "cell_type": "code",
   "execution_count": 67,
   "metadata": {},
   "outputs": [
    {
     "name": "stdout",
     "output_type": "stream",
     "text": [
      "[0, 1, 2, 3, 4, 5, 6, 7, 8, 9, 10, 11]\n",
      "[0, 9, 8, 7, 6, 5, 4, 3, 2, 1, 10, 11]\n",
      "[0, 9, 8, 7, 6, 5, 4, 3, 2, 1, 10, 11]\n"
     ]
    }
   ],
   "source": [
    "def partReversed(p,s):\n",
    "    p[s] = reversed(p[s])\n",
    "    print(p)\n",
    "\n",
    "L = [i for i in range(12)]\n",
    "print(L)\n",
    "partReversed(L,slice(1,10))\n",
    "print(L)"
   ]
  },
  {
   "cell_type": "code",
   "execution_count": 78,
   "metadata": {},
   "outputs": [
    {
     "name": "stdout",
     "output_type": "stream",
     "text": [
      "bytearray(b'umps over my crazy dog.')\n",
      "bytearray(b'A quick brown fox jumps over the lazy dog.')\n",
      "<memory at 0x0000013B37EFFAC0>\n",
      "bytearray(b'A quick brown fox jumps over my crazy dog.')\n"
     ]
    }
   ],
   "source": [
    "s='A quick brown fox jumps over the lazy dog.'\n",
    "def f(x): # copy an object\n",
    "    x[10:15]=b'my cr'\n",
    "\n",
    "ba=bytearray(s,'ascii');mv=memoryview(ba)\n",
    "f(ba[19:]);print(ba);f(mv[19:]);print(ba)\n",
    "# memoryview is like pointer"
   ]
  },
  {
   "attachments": {},
   "cell_type": "markdown",
   "metadata": {},
   "source": [
    "### Lecture 12 ###"
   ]
  },
  {
   "cell_type": "code",
   "execution_count": 82,
   "metadata": {},
   "outputs": [
    {
     "name": "stdout",
     "output_type": "stream",
     "text": [
      "<class 'ellipsis'>\n",
      "[[1 2]\n",
      " [5 6]]\n",
      "[[1 2 3 4]\n",
      " [5 6 7 8]]\n",
      "[[1 2 3 4]\n",
      " [5 6 7 8]]\n"
     ]
    }
   ],
   "source": [
    "# ellpsis \n",
    "print(type(...))\n",
    "# can do slice\n",
    "import numpy as np\n",
    "a = np.array([\n",
    "    [1,2,3,4],\n",
    "    [5,6,7,8],\n",
    "    [9,10,11,12]\n",
    "])\n",
    "\n",
    "print(a[:2,:2])\n",
    "print(a[:2,:])\n",
    "print(a[:2,...])"
   ]
  },
  {
   "cell_type": "code",
   "execution_count": 83,
   "metadata": {},
   "outputs": [
    {
     "name": "stdout",
     "output_type": "stream",
     "text": [
      "Good Afternoon!\n"
     ]
    }
   ],
   "source": [
    "class Simpleclass():\n",
    "    \"\"\"A simple class\"\"\"\n",
    "    def greet(self):\n",
    "        print(\"Good Afternoon!\")\n",
    "\n",
    "inst = Simpleclass()\n",
    "inst.greet()"
   ]
  },
  {
   "cell_type": "code",
   "execution_count": 84,
   "metadata": {},
   "outputs": [
    {
     "name": "stdout",
     "output_type": "stream",
     "text": [
      "4\n",
      "2\n"
     ]
    }
   ],
   "source": [
    "class Simpleclass():\n",
    "    \"\"\"A simple class\"\"\"\n",
    "    def set(self,x):\n",
    "        self.f = x\n",
    "\n",
    "def f(self,x):\n",
    "    self.val = x\n",
    "\n",
    "inst = Simpleclass()\n",
    "inst.set = f # dynamic add a function\n",
    "inst.set(inst,4)\n",
    "print(inst.val)\n",
    "\n",
    "inst.A = 2 # dynamic add a attribute\n",
    "print(inst.A)"
   ]
  },
  {
   "cell_type": "code",
   "execution_count": 87,
   "metadata": {},
   "outputs": [
    {
     "name": "stdout",
     "output_type": "stream",
     "text": [
      "Hi, I'm self name \n",
      "\n",
      "Poochie\n"
     ]
    }
   ],
   "source": [
    "class Critter(object):\n",
    "    def __init__(self,name):\n",
    "        self.name = name\n",
    "    def talk(self):\n",
    "        print(\"Hi, I'm self name\",\"\\n\")\n",
    "\n",
    "crit1 = Critter(\"Poochie\")\n",
    "crit1.talk()\n",
    "print(crit1.name)"
   ]
  },
  {
   "cell_type": "code",
   "execution_count": 92,
   "metadata": {},
   "outputs": [
    {
     "name": "stdout",
     "output_type": "stream",
     "text": [
      "Critter object\n",
      "name: Benji\n"
     ]
    },
    {
     "data": {
      "text/plain": [
       "'Critter object\\nname: Benji'"
      ]
     },
     "execution_count": 92,
     "metadata": {},
     "output_type": "execute_result"
    }
   ],
   "source": [
    "class Critter(object):\n",
    "    def __init__(self, name):\n",
    "        self.name = name\n",
    "    def __str__(self):\n",
    "        rep = \"Critter object\\n\"\n",
    "        rep += \"name: \" + self.name\n",
    "        return rep\n",
    "\n",
    "c=Critter(\"Benji\")\n",
    "print(c)\n",
    "c.__str__()\n"
   ]
  },
  {
   "cell_type": "code",
   "execution_count": 93,
   "metadata": {},
   "outputs": [
    {
     "name": "stdout",
     "output_type": "stream",
     "text": [
      "range(10, 0, -1)\n",
      "[10, 9, 8, 7, 6, 5, 4, 3, 2, 1]\n",
      "[10, 9, 8, 7, 6, 5, 4, 3, 2, 1]\n",
      "[10, 9, 8, 7, 6, 5, 4, 3, 2, 1]\n"
     ]
    }
   ],
   "source": [
    "# To make a class iterable:\n",
    "# __iter__(self) \n",
    "\n",
    "class CountDown():\n",
    "    def __init__(self,count): \n",
    "        self.it=range(count,0,-1)\n",
    "    def __iter__(self):\n",
    "        return iter(self.it)\n",
    "\n",
    "cd=CountDown(10); print(cd.it)\n",
    "print([x for x in cd.it])\n",
    "print([x for x in range(10,0,-1)])\n",
    "print([x for x in cd])"
   ]
  },
  {
   "cell_type": "code",
   "execution_count": 99,
   "metadata": {},
   "outputs": [
    {
     "name": "stdout",
     "output_type": "stream",
     "text": [
      "9 8\n",
      "[7, 6, 5, 4, 3, 2, 1]\n",
      "9 8\n"
     ]
    },
    {
     "ename": "TypeError",
     "evalue": "'CountDown' object is not iterable",
     "output_type": "error",
     "traceback": [
      "\u001b[1;31m---------------------------------------------------------------------------\u001b[0m",
      "\u001b[1;31mTypeError\u001b[0m                                 Traceback (most recent call last)",
      "Cell \u001b[1;32mIn[99], line 20\u001b[0m\n\u001b[0;32m     18\u001b[0m x \u001b[39m=\u001b[39m CountDown(\u001b[39m9\u001b[39m)\n\u001b[0;32m     19\u001b[0m \u001b[39mprint\u001b[39m(\u001b[39mnext\u001b[39m(x) ,\u001b[39mnext\u001b[39m(x))\n\u001b[1;32m---> 20\u001b[0m \u001b[39mprint\u001b[39m([y \u001b[39mfor\u001b[39;00m y \u001b[39min\u001b[39;00m x])\n",
      "\u001b[1;31mTypeError\u001b[0m: 'CountDown' object is not iterable"
     ]
    }
   ],
   "source": [
    "# Another way to make a class iterable:\n",
    "# __next__(self) \n",
    "\n",
    "class CountDown():\n",
    "    def __init__(self,c): \n",
    "        self.c = c\n",
    "    def __iter__(self):\n",
    "        return self\n",
    "    def __next__(self):\n",
    "        if self.c <1: raise (StopIteration)\n",
    "        self.c -= 1; return self.c +1\n",
    "    \n",
    "x = CountDown(9)\n",
    "print(next(x) ,next(x))\n",
    "print([y for y in x])\n",
    "\n",
    "del CountDown.__iter__\n",
    "x = CountDown(9)\n",
    "print(next(x) ,next(x))\n",
    "print([y for y in x])"
   ]
  },
  {
   "cell_type": "code",
   "execution_count": 103,
   "metadata": {},
   "outputs": [
    {
     "name": "stdout",
     "output_type": "stream",
     "text": [
      "True\n",
      "<__main__.F object at 0x0000013B4EA22350>\n",
      "Hello?\n"
     ]
    },
    {
     "ename": "TypeError",
     "evalue": "'float' object is not callable",
     "output_type": "error",
     "traceback": [
      "\u001b[1;31m---------------------------------------------------------------------------\u001b[0m",
      "\u001b[1;31mTypeError\u001b[0m                                 Traceback (most recent call last)",
      "Cell \u001b[1;32mIn[103], line 11\u001b[0m\n\u001b[0;32m      7\u001b[0m \u001b[39mprint\u001b[39m(g)\n\u001b[0;32m      9\u001b[0m g()\n\u001b[1;32m---> 11\u001b[0m g\u001b[39m=\u001b[39m\u001b[39m5.5\u001b[39m; g()\n",
      "\u001b[1;31mTypeError\u001b[0m: 'float' object is not callable"
     ]
    }
   ],
   "source": [
    "# To make a class callable:\n",
    "class F():\n",
    "    def __call__(self):print(\"Hello?\")\n",
    "\n",
    "g=F(); print(callable(g)) # True\n",
    "\n",
    "print(g)\n",
    "\n",
    "g()\n",
    "\n",
    "g=5.5; g()\n",
    "\n"
   ]
  },
  {
   "cell_type": "code",
   "execution_count": 111,
   "metadata": {},
   "outputs": [
    {
     "name": "stdout",
     "output_type": "stream",
     "text": [
      "Total Critter:  3\n"
     ]
    }
   ],
   "source": [
    "class Critter(object):\n",
    "    total = 0 # class variable\n",
    "    def __init__(self, name):\n",
    "        self.name = name\n",
    "        Critter.total += 1\n",
    "    def __str__(self):\n",
    "        rep = \"Critter object\\n\"\n",
    "        rep += \"name: \" + self.name\n",
    "        return rep\n",
    "    def status():\n",
    "        print(\"Total Critter: \",Critter.total)\n",
    "\n",
    "    status = staticmethod(status) # initalize a staticmethod (like original function)\n",
    "\n",
    "crit1 = Critter(\"c1\")\n",
    "crit2 = Critter(\"c2\")\n",
    "crit3 = Critter(\"c3\")\n",
    "\n",
    "Critter.status()"
   ]
  },
  {
   "cell_type": "code",
   "execution_count": 110,
   "metadata": {},
   "outputs": [
    {
     "name": "stdout",
     "output_type": "stream",
     "text": [
      "Hi, Bob\n",
      "The age is: 20\n"
     ]
    }
   ],
   "source": [
    "# staticmethod() 沒有self 或是 cls 之類的參數\n",
    "# staticmethod() 可以不透過instance呼叫，也可由class呼叫\n",
    "# 靜態方法在內部不能訪問類別或實例的屬性和方法。\n",
    "\n",
    "# classmethod（類別方法）：\n",
    "\n",
    "# 使用 @classmethod 裝飾器來標記一個方法為類別方法。\n",
    "# 類別方法的第一個參數通常被命名為 cls，代表該類別本身，而不是實例。\n",
    "# 類別方法可以訪問類別的屬性和方法，也可以訪問實例的屬性和方法。\n",
    "# 類別方法可以被類別本身和類別的實例呼叫。\n",
    "\n",
    "class Person:\n",
    "  age = 20\n",
    "  def printHi(s):\n",
    "    print(\"Hi,\",s)\n",
    "  def printAge(cls):\n",
    "    print('The age is:', cls.age)\n",
    "\n",
    "Person.printHi=staticmethod(Person.printHi)\n",
    "Person.prntAge=staticmethod(Person.printAge)\n",
    "Person.printHi(\"Bob\")\n",
    "Person.printAge = classmethod(Person.printAge)\n",
    "Person.printAge()\n"
   ]
  },
  {
   "cell_type": "code",
   "execution_count": 114,
   "metadata": {},
   "outputs": [
    {
     "name": "stdout",
     "output_type": "stream",
     "text": [
      "c1\n",
      "hi\n"
     ]
    }
   ],
   "source": [
    "class Critter(object):\n",
    "    total = 0 # class variable\n",
    "    def __init__(self, name):\n",
    "        self.__name = name\n",
    "        Critter.total += 1\n",
    "    def __str__(self):\n",
    "        rep = \"Critter object\\n\"\n",
    "        rep += \"name: \" + self.name\n",
    "        return rep\n",
    "    def status():\n",
    "        print(\"Total Critter: \",Critter.total)\n",
    "    def get_name(self): # getter\n",
    "        return self.__name\n",
    "    def set_name(self, new_name):\n",
    "        if new_name == \"\": # setter\n",
    "            print (\"Critter's name can't be empty.\")\n",
    "        else:\n",
    "            self.__name = new_name\n",
    "\n",
    "    # or use property\n",
    "    # name = property(get_name,set_name)\n",
    "\n",
    "crit1 = Critter(\"c1\")\n",
    "print(crit1.get_name())\n",
    "crit1.set_name(\"hi\")\n",
    "print(crit1.get_name())\n"
   ]
  },
  {
   "cell_type": "code",
   "execution_count": 115,
   "metadata": {},
   "outputs": [
    {
     "name": "stdout",
     "output_type": "stream",
     "text": [
      "True\n"
     ]
    }
   ],
   "source": [
    "# hasattr(object,name) : 這個object有name這個東西嗎\n",
    "print(hasattr(list,\"sort\"))"
   ]
  },
  {
   "cell_type": "code",
   "execution_count": 118,
   "metadata": {},
   "outputs": [
    {
     "name": "stdout",
     "output_type": "stream",
     "text": [
      "True True\n",
      "-1.0 -1.0\n"
     ]
    }
   ],
   "source": [
    "# setattr(obj,name,value):\n",
    "# setattr(x, 'y', v) equivalent to x.y = v\n",
    "\n",
    "import math\n",
    "class C( ):pass\n",
    "\n",
    "f=C( )\n",
    "f.a=5; setattr(f,\"a2\",5)\n",
    "print(hasattr(f,\"a\"), hasattr(f,\"a2\"))\n",
    "\n",
    "C.b=math.cos;setattr(f,\"b2\",math.cos)\n",
    "print(f.b(3.1415926584), f.b2(3.1415926584))\n"
   ]
  },
  {
   "cell_type": "code",
   "execution_count": 119,
   "metadata": {},
   "outputs": [
    {
     "name": "stdout",
     "output_type": "stream",
     "text": [
      "True True\n",
      "False False\n"
     ]
    }
   ],
   "source": [
    "# delattr(obj,name):\n",
    "# delattr(x, 'y') is equivalent to del x.y\n",
    "class C( ):pass\n",
    "\n",
    "f=C()\n",
    "f.a=5; setattr(f,\"b\",5)\n",
    "print(hasattr(f,\"a\"), hasattr(f,\"b\"))\n",
    "\n",
    "del f.a; delattr(f,\"b\")\n",
    "print(hasattr(f,\"a\"), hasattr(f,\"b\"))\n"
   ]
  },
  {
   "cell_type": "code",
   "execution_count": 122,
   "metadata": {},
   "outputs": [
    {
     "data": {
      "text/plain": [
       "3"
      ]
     },
     "execution_count": 122,
     "metadata": {},
     "output_type": "execute_result"
    }
   ],
   "source": [
    "class A(object):\n",
    "    bar = 1\n",
    "\n",
    "a = A()\n",
    "getattr(a, 'bar') # 获取属性 bar 值 => 1\n",
    "\n",
    "# getattr(a, 'bar2')       # 属性 bar2 不存在，触发异常\n",
    "# Traceback (most recent call last):\n",
    "#  File \"<stdin>\", line 1, in <module>\n",
    "# AttributeError: 'A' object has no attribute 'bar2'\n",
    "\n",
    "getattr(a, 'bar2', 3)    # 属性 bar2 不存在，但设置了默认值"
   ]
  },
  {
   "cell_type": "code",
   "execution_count": null,
   "metadata": {},
   "outputs": [],
   "source": [
    "    "
   ]
  }
 ],
 "metadata": {
  "kernelspec": {
   "display_name": "base",
   "language": "python",
   "name": "python3"
  },
  "language_info": {
   "codemirror_mode": {
    "name": "ipython",
    "version": 3
   },
   "file_extension": ".py",
   "mimetype": "text/x-python",
   "name": "python",
   "nbconvert_exporter": "python",
   "pygments_lexer": "ipython3",
   "version": "3.11.3"
  },
  "orig_nbformat": 4
 },
 "nbformat": 4,
 "nbformat_minor": 2
}
