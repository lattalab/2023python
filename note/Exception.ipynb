{
 "cells": [
  {
   "cell_type": "code",
   "execution_count": 5,
   "metadata": {},
   "outputs": [
    {
     "name": "stdout",
     "output_type": "stream",
     "text": [
      "You didn't enter an number!\n"
     ]
    }
   ],
   "source": [
    "# 語法錯誤(Sytnax Error): 語法錯誤，程式無法執行\n",
    "# 例外(Exception): 程式可以執行，但在某些條件會出錯\n",
    "\n",
    "# Example:\n",
    "try:\n",
    "    data = input(\"Input an number: \")\n",
    "    data = int(data)\n",
    "    print(\"You entered the number: \",data)\n",
    "except Exception:\n",
    "    print(\"You didn't enter an number!\")\n",
    "\n"
   ]
  },
  {
   "cell_type": "code",
   "execution_count": null,
   "metadata": {},
   "outputs": [],
   "source": []
  }
 ],
 "metadata": {
  "kernelspec": {
   "display_name": "base",
   "language": "python",
   "name": "python3"
  },
  "language_info": {
   "codemirror_mode": {
    "name": "ipython",
    "version": 3
   },
   "file_extension": ".py",
   "mimetype": "text/x-python",
   "name": "python",
   "nbconvert_exporter": "python",
   "pygments_lexer": "ipython3",
   "version": "3.9.13"
  },
  "orig_nbformat": 4
 },
 "nbformat": 4,
 "nbformat_minor": 2
}
