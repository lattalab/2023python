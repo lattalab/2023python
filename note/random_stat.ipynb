{
 "cells": [
  {
   "cell_type": "code",
   "execution_count": 6,
   "metadata": {},
   "outputs": [
    {
     "name": "stdout",
     "output_type": "stream",
     "text": [
      "[5, 0, 1, 8]\n"
     ]
    },
    {
     "data": {
      "text/plain": [
       "100.93336048288913"
      ]
     },
     "execution_count": 6,
     "metadata": {},
     "output_type": "execute_result"
    }
   ],
   "source": [
    "# 亂數模組\n",
    "# 載入模組\n",
    "import random\n",
    "\n",
    "# 隨機選取-\n",
    "\n",
    "# 從列表中隨機選取 1 個資料    ( 1個用 choice )\n",
    "random.choice([0,1,5,8])\n",
    "\n",
    "# 從列表中隨機選取 2 個資料    ( 2個以上用 sample 不能超過列表的長度 )\n",
    "random.sample([0,1,5,8],2) #最多選取n個資料(這個例子為n=4)\n",
    "\n",
    "# 隨機調換順序-\n",
    "\n",
    "# 將列表的資料(就地)隨機調換順序   會對列表本身的資料進行修改、調換\n",
    "data=[0,1,5,8]\n",
    "random.shuffle(data)\n",
    "print(data)\n",
    "\n",
    "# 隨機亂數-\n",
    "\n",
    "# 取得 0.0 ~ 1.0 之間的隨機亂數\n",
    "random.random()     # 取 0 ~ 1 之間的隨機亂數\n",
    "random.uniform(0.0,1.0)   # 區間內的隨機亂數   機率相同\n",
    "\n",
    "# 常態分配亂數-\n",
    "\n",
    "# 取得平均數 100 標準差 10 的\n",
    "# 常態分配亂數\n",
    "random.normalvariate(100,10)    # 前面是平均數 後面是標準差\n",
    "# 這樣取到的數 \n",
    "# 大部分取到的數都在一個標準差內 90 ~ 110 (68%) \n",
    "# 更大部分是兩個標準差內 80 ~ 120 (95%) \n",
    "# 極大部分是三個個標準差內 70 ~ 130 (99.7%)"
   ]
  },
  {
   "cell_type": "code",
   "execution_count": 3,
   "metadata": {},
   "outputs": [
    {
     "name": "stdout",
     "output_type": "stream",
     "text": [
      "20\n",
      "[20, 10, 6]\n",
      "[20, 1, 8, 5]\n",
      "0.21888347235038408\n",
      "80.48265774675951\n",
      "92.69327237695887\n",
      "5.138598328020436\n"
     ]
    }
   ],
   "source": [
    "# 隨機模組\n",
    "import random\n",
    "\n",
    "# 隨機選取\n",
    "data=random.choice([1,5,6,10,20])\n",
    "print(data)\n",
    "\n",
    "# 複數的隨機選取  會回傳一個列表資料出來\n",
    "data=random.sample([1,5,6,10,20],3)\n",
    "print(data)\n",
    "\n",
    "# 隨機調換順序 (就是洗牌的概念)\n",
    "data=[1,5,8,20]\n",
    "random.shuffle(data)\n",
    "print(data)\n",
    "\n",
    "# 隨機取得亂數 \n",
    "data=random.random()  # 0 ~ 1 之間的隨機亂數\n",
    "print(data)\n",
    "\n",
    "data=random.uniform(60,100) # 60 ~ 100 之間的隨機亂數 (uniform是均勻的意思，出現機率相等)\n",
    "print(data)\n",
    "\n",
    "# 取得常態分配亂數\n",
    "# 平均數 100, 標準差 10, 得到的資料多數在 90~ 110 之間\n",
    "data=random.normalvariate(100,10)      \n",
    "print(data)\n",
    "\n",
    "# 平均數 0, 標準差 5, 得到的資料多數在 -5 ~ 5 之間\n",
    "data=random.normalvariate(0,5)\n",
    "print(data)"
   ]
  },
  {
   "cell_type": "code",
   "execution_count": 5,
   "metadata": {},
   "outputs": [
    {
     "data": {
      "text/plain": [
       "3.366501646120693"
      ]
     },
     "execution_count": 5,
     "metadata": {},
     "output_type": "execute_result"
    }
   ],
   "source": [
    "# 載入統計模組\n",
    "import statistics\n",
    "\n",
    "# 計算平均數-\n",
    "\n",
    "# 計算列表中數字的平均數\n",
    "statistics.mean([1,4,6,9])\n",
    "\n",
    "# 計算列表中數字的中位數\n",
    "statistics.median([1,4,6,9])\n",
    "\n",
    "# 計算列表中數字的標準差\n",
    "statistics.stdev([1,4,6,9])"
   ]
  },
  {
   "cell_type": "code",
   "execution_count": 9,
   "metadata": {},
   "outputs": [
    {
     "name": "stdout",
     "output_type": "stream",
     "text": [
      "4.5\n",
      "4\n",
      "5.0\n",
      "3.251373336211726\n"
     ]
    }
   ],
   "source": [
    "# 統計模組\n",
    "import statistics as stat # 用別名來稱呼這個模組  操作起來會比較方便\n",
    "data=stat.mean([1,4,5,8])\n",
    "print(data)\n",
    "\n",
    "data=stat.median([1,2,3,4,5,8,100])   # 用中位數   比較符合大部分人的情況   因為極端值不會進來\n",
    "print(data)\n",
    "\n",
    "data=stat.median([1,2,3,4,7,5,8,100])\n",
    "print(data)\n",
    "\n",
    "data=stat.stdev([1,2,3,4,5,8,10])  # 標準差   資料的散布狀況\n",
    "print(data)\n",
    "\n",
    "# 平均數、中位數、標準差、常態分配"
   ]
  },
  {
   "cell_type": "code",
   "execution_count": null,
   "metadata": {},
   "outputs": [],
   "source": []
  }
 ],
 "metadata": {
  "kernelspec": {
   "display_name": "base",
   "language": "python",
   "name": "python3"
  },
  "language_info": {
   "codemirror_mode": {
    "name": "ipython",
    "version": 3
   },
   "file_extension": ".py",
   "mimetype": "text/x-python",
   "name": "python",
   "nbconvert_exporter": "python",
   "pygments_lexer": "ipython3",
   "version": "3.9.13"
  },
  "orig_nbformat": 4
 },
 "nbformat": 4,
 "nbformat_minor": 2
}
