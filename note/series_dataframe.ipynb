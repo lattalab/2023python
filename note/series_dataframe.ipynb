{
 "cells": [
  {
   "cell_type": "code",
   "execution_count": null,
   "metadata": {},
   "outputs": [],
   "source": [
    "#series:單維度的資料 ex:pd.series(列表)\n",
    "\n",
    "#dataframe:雙維度的資料(有row跟column) ex:pd.dataframe(字典)\n",
    "#取得特定欄(直向) :data[\"欄位名稱\"]\n",
    "#取得特定列(橫向) :data.iloc[列編號] ,(列編號按順序從0開始累加)"
   ]
  },
  {
   "cell_type": "code",
   "execution_count": 8,
   "metadata": {},
   "outputs": [
    {
     "name": "stdout",
     "output_type": "stream",
     "text": [
      "0    20\n",
      "1    10\n",
      "2    15\n",
      "dtype: int64\n",
      "\n",
      "Max = 20\n",
      "Median = 15.0\n",
      "\n",
      "After larger: \n",
      "\n",
      "0    40\n",
      "1    20\n",
      "2    30\n",
      "dtype: int64\n",
      "\n",
      "0    False\n",
      "1     True\n",
      "2    False\n",
      "dtype: bool\n"
     ]
    }
   ],
   "source": [
    "#series:\n",
    "import pandas as pds\n",
    "data = pds.Series([20,10,15])\n",
    "print(data)\n",
    "#int64 means 64-bit integer\n",
    "print(\"\\nMax =\",data.max())\n",
    "print(\"Median =\",data.median())\n",
    "\n",
    "data = data*2 #資料放大兩倍\n",
    "print(\"\\nAfter larger: \\n\")\n",
    "print(data)\n",
    "\n",
    "data = data==20 #data==20會先比較，會從data中找資料一個一個比對\n",
    "print()\n",
    "print(data) #get boolean value"
   ]
  },
  {
   "cell_type": "code",
   "execution_count": 14,
   "metadata": {},
   "outputs": [
    {
     "name": "stdout",
     "output_type": "stream",
     "text": [
      "   name salary\n",
      "0   Amy  33000\n",
      "1  Jhon  50000\n",
      "2   Bob  40000\n",
      "\n",
      "0     Amy\n",
      "1    Jhon\n",
      "2     Bob\n",
      "Name: name, dtype: object\n",
      "\n",
      "name        Amy\n",
      "salary    33000\n",
      "Name: 0, dtype: object\n"
     ]
    }
   ],
   "source": [
    "#dataframe:\n",
    "import pandas as pds\n",
    "data = pds.DataFrame({\n",
    "    \"name\":[\"Amy\", \"Jhon\", \"Bob\"],\n",
    "    \"salary\":[\"33000\",\"50000\",\"40000\"]\n",
    "})\n",
    "#欄 = name 跟 salary(直向看)\n",
    "#列 = 0,1,2(橫向看)\n",
    "print(data)\n",
    "print()\n",
    "\n",
    "#取得特定的欄位\n",
    "print(data[\"name\"])\n",
    "print()\n",
    "#取得特定的列\n",
    "print(data.iloc[0]) #印出第一列"
   ]
  },
  {
   "cell_type": "code",
   "execution_count": 15,
   "metadata": {},
   "outputs": [],
   "source": [
    "#series index: default or 自己建立\n",
    "#series資料觀察: .dtype ， .size ， .index\n",
    "#series取得資料: data[0](data[索引])"
   ]
  },
  {
   "cell_type": "code",
   "execution_count": 26,
   "metadata": {},
   "outputs": [
    {
     "name": "stdout",
     "output_type": "stream",
     "text": [
      "Max: 7\n",
      "Total Sum: 17\n",
      "中位數: 4.0\n",
      "Average: 3.4\n",
      "標準差: 3.361547262794322\n",
      "Total product(累乘): -840\n",
      "最大的n個數:\n",
      " e    7\n",
      "a    5\n",
      "b    4\n",
      "dtype: int64\n",
      "最小的n個數:\n",
      " c   -2\n",
      "d    3\n",
      "dtype: int64\n"
     ]
    }
   ],
   "source": [
    "import pandas as pds\n",
    "data = pds.Series([5,4,-2,3,7]) #default index from 0 to 4\n",
    "print(data)\n",
    "print()\n",
    "\n",
    "data = pds.Series([5,4,-2,3,7],index=[\"a\",\"b\",\"c\",\"d\",\"e\"]) #自己提供index\n",
    "print(data)\n",
    "print()\n",
    "\n",
    "#觀察資料\n",
    "print(\"資料型態:\", data.dtype)\n",
    "print(\"資料數量:\", data.size)\n",
    "print(\"資料索引:\", data.index)\n",
    "print()\n",
    "\n",
    "#取得資料\n",
    "print(\"get data:\")\n",
    "print(data[2]) #default index\n",
    "print(data[\"e\"]) #自己建的index\n",
    "print()"
   ]
  },
  {
   "cell_type": "code",
   "execution_count": 37,
   "metadata": {},
   "outputs": [
    {
     "name": "stdout",
     "output_type": "stream",
     "text": [
      "Max: 7\n",
      "Total Sum: 17\n",
      "中位數: 4.0\n",
      "Average: 3.4\n",
      "標準差: 3.361547262794322\n",
      "Total product(累乘): -840\n",
      "最大的n個數:\n",
      " e    7\n",
      "a    5\n",
      "b    4\n",
      "dtype: int64\n",
      "最小的n個數:\n",
      " c   -2\n",
      "d    3\n",
      "dtype: int64\n",
      "\n"
     ]
    }
   ],
   "source": [
    "import pandas as pds\n",
    "data = pds.Series([5,4,-2,3,7],index=[\"a\",\"b\",\"c\",\"d\",\"e\"]) #自己提供index\n",
    "#數字運算\n",
    "print(\"Max:\",data.max())\n",
    "print(\"Total Sum:\",data.sum())\n",
    "print(\"中位數:\",data.median())\n",
    "print(\"Average:\",data.mean())\n",
    "print(\"標準差:\",data.std())\n",
    "print(\"Total product(累乘):\",data.prod())\n",
    "print(\"最大的n個數:\\n\",data.nlargest(3))\n",
    "print(\"最小的n個數:\\n\",data.nsmallest(2))\n",
    "print()"
   ]
  },
  {
   "cell_type": "code",
   "execution_count": 36,
   "metadata": {},
   "outputs": [
    {
     "name": "stdout",
     "output_type": "stream",
     "text": [
      "變小寫:\n",
      "0        您好\n",
      "1    python\n",
      "2    pandas\n",
      "dtype: object\n",
      "變大寫:\n",
      "0        您好\n",
      "1    PYTHON\n",
      "2    PANDAS\n",
      "dtype: object\n",
      "算每個字串長度:\n",
      " 0    2\n",
      "1    6\n",
      "2    6\n",
      "dtype: int64\n",
      "您好,Python,Pandas\n",
      "0    False\n",
      "1     True\n",
      "2     True\n",
      "dtype: bool\n",
      "0     Hello\n",
      "1    Python\n",
      "2    Pandas\n",
      "dtype: object\n"
     ]
    }
   ],
   "source": [
    "#字串運算\n",
    "data = pds.Series([\"您好\",\"Python\", \"Pandas\"])\n",
    "print(\"變小寫:\\n{}\".format(data.str.lower()))\n",
    "print(\"變大寫:\\n{}\".format(data.str.upper()))\n",
    "print(\"算每個字串長度:\\n\",data.str.len())\n",
    "print(data.str.cat(sep=\",\")) #用\"逗號\"將str連接起來 in pandas series\n",
    "print(data.str.contains(\"P\")) #跑遍series中，是否包含\"P\"\n",
    "print(data.str.replace(\"您好\",\"Hello\"))"
   ]
  },
  {
   "cell_type": "code",
   "execution_count": 38,
   "metadata": {},
   "outputs": [],
   "source": [
    "#dataframe\n",
    "#一般的，內建index: pd.DataFrame(字典)\n",
    "#自己建的index: pd.DataFrame(字典,index=索引列表)\n",
    "\n",
    "#印出資料屬性: data.size()\n",
    "#印出資料形狀: data.shape()\n",
    "#印出資料索引: data.index()\n",
    "\n",
    "#取得一整列: data.iloc[順序](data.loc[索引])\n",
    "#data.iloc[1] #series型態\n",
    "#data.loc[索引] #series型態\n",
    "\n",
    "#取得一整欄: data[\"欄位名稱\"] -> series型態\n",
    "\n",
    "#建立新的欄位:\n",
    "#data[\"新欄位名稱\"] = 列表資料\n",
    "#data[\"新欄位名稱\"] = series型態資料"
   ]
  },
  {
   "cell_type": "code",
   "execution_count": 60,
   "metadata": {},
   "outputs": [
    {
     "name": "stdout",
     "output_type": "stream",
     "text": [
      "      name  salary\n",
      "0      Amy   30000\n",
      "1      Bob   50000\n",
      "2  Charile   40000\n",
      "\n",
      "      name  salary\n",
      "a      Amy   30000\n",
      "b      Bob   50000\n",
      "c  Charile   40000\n",
      "\n",
      "資料數量: 6\n",
      "資料型態 (列 , 欄): (3, 2)\n",
      "資料索引: Index(['a', 'b', 'c'], dtype='object')\n",
      "\n",
      "      name  salary  revenue  rank         cp\n",
      "a      Amy   30000   500000     3  16.666667\n",
      "b      Bob   50000   400000     6   8.000000\n",
      "c  Charile   40000   300000     1   7.500000\n"
     ]
    }
   ],
   "source": [
    "import pandas as pds\n",
    "#內建索引\n",
    "data = pds.DataFrame({\n",
    "    \"name\":[\"Amy\",\"Bob\",\"Charile\"],\n",
    "    \"salary\":[30000,50000,40000]\n",
    "})\n",
    "print(data)\n",
    "print()\n",
    "#自己建索引\n",
    "data = pds.DataFrame({\n",
    "    \"name\":[\"Amy\",\"Bob\",\"Charile\"],\n",
    "    \"salary\":[30000,50000,40000]\n",
    "} , index =[\"a\",\"b\",\"c\"])\n",
    "print(data)\n",
    "print()\n",
    "\n",
    "#觀察資料\n",
    "print(\"資料數量:\",data.size)\n",
    "print(\"資料型態 (列 , 欄):\",data.shape)\n",
    "print(\"資料索引:\",data.index)\n",
    "print()\n",
    "\n",
    "#建立新的欄位 (新增直向的欄位)\n",
    "data[\"revenue\"] = [500000 , 400000, 300000] #data[新欄位的名稱] = 列表\n",
    "data[\"rank\"] = pds.Series([3,6,1], index=[\"a\",\"b\",\"c\"]) #data[新欄位的名稱] = Series的資料\n",
    "data[\"cp\"] = data[\"revenue\"]/data[\"salary\"] #利用原來的欄位的值，去建立一個新欄位\n",
    "print(data)"
   ]
  },
  {
   "cell_type": "code",
   "execution_count": 54,
   "metadata": {},
   "outputs": [
    {
     "name": "stdout",
     "output_type": "stream",
     "text": [
      "      name  salary\n",
      "a      Amy   30000\n",
      "b      Bob   50000\n",
      "c  Charile   40000\n",
      "\n",
      "取得第二列:\n",
      "name        Bob\n",
      "salary    50000\n",
      "Name: b, dtype: object\n",
      "\n",
      "取得第 c 列\n",
      "name      Charile\n",
      "salary      40000\n",
      "Name: c, dtype: object\n",
      "\n",
      "取得 name 的欄位\n",
      "a        Amy\n",
      "b        Bob\n",
      "c    Charile\n",
      "Name: name, dtype: object\n",
      "\n",
      "把 name 全部轉大寫\n",
      "a        AMY\n",
      "b        BOB\n",
      "c    CHARILE\n",
      "Name: name, dtype: object\n"
     ]
    }
   ],
   "source": [
    "import pandas as pds\n",
    "\n",
    "data = pds.DataFrame({\n",
    "    \"name\":[\"Amy\",\"Bob\",\"Charile\"],\n",
    "    \"salary\":[30000,50000,40000]\n",
    "} , index =[\"a\",\"b\",\"c\"])\n",
    "print(data)\n",
    "print()\n",
    "\n",
    "#取得列(橫向) 的 Series 資料: 根據順序、根據索引\n",
    "print(\"取得第二列:\\n{}\".format(data.iloc[1]))\n",
    "print()\n",
    "print(\"取得第 c 列\", data.loc[\"c\"], sep=\"\\n\")\n",
    "print()\n",
    "\n",
    "#取得欄(直向) 的 Series 資料: 根據欄位的名稱\n",
    "print(\"取得 name 的欄位\", data[\"name\"], sep=\"\\n\") #會印出索引出來\n",
    "print()\n",
    "\n",
    "#DataFrame是雙維度的，可以只取某欄得到Series的資料(可以應用series的method)\n",
    "names = data[\"name\"] #取得單維度的 Series 資料\n",
    "print(\"把 name 全部轉大寫\",names.str.upper() , sep=\"\\n\")"
   ]
  },
  {
   "cell_type": "code",
   "execution_count": 65,
   "metadata": {},
   "outputs": [
    {
     "name": "stdout",
     "output_type": "stream",
     "text": [
      "0    30\n",
      "2    20\n",
      "dtype: int64\n",
      "\n",
      "0     True\n",
      "1    False\n",
      "2     True\n",
      "dtype: bool\n",
      "0    30\n",
      "2    20\n",
      "dtype: int64\n",
      "\n",
      "0    False\n",
      "1     True\n",
      "2     True\n",
      "dtype: bool\n",
      "1    Python\n",
      "2    Pandas\n",
      "dtype: object\n",
      "\n"
     ]
    }
   ],
   "source": [
    "import pandas as pds\n",
    "\n",
    "#根據條件完成Series篩選\n",
    "data = pds.Series([30 , 15, 20])\n",
    "condition = [True, False, True]\n",
    "filterdata = data[condition] #選擇與資料對應的布林值\n",
    "print(filterdata)\n",
    "print()\n",
    "\n",
    "condition2 = data>18 #建立篩選條件(直接透過比較運算得到)\n",
    "filterdata = data[condition2]\n",
    "print(condition2)\n",
    "print(filterdata)\n",
    "print()\n",
    "\n",
    "data = pds.Series([\"您好\", \"Python\", \"Pandas\"])\n",
    "condition3 =data.str.contains(\"P\")\n",
    "filterdata = data[condition3]\n",
    "print(condition3)\n",
    "print(filterdata)\n",
    "print()"
   ]
  },
  {
   "cell_type": "code",
   "execution_count": 4,
   "metadata": {},
   "outputs": [
    {
     "name": "stdout",
     "output_type": "stream",
     "text": [
      "      name  salary\n",
      "0      Amy   30000\n",
      "1      Bob   50000\n",
      "2  Charile   40000\n",
      "\n",
      "      name  salary\n",
      "1      Bob   50000\n",
      "2  Charile   40000\n",
      "\n",
      "0    False\n",
      "1     True\n",
      "2     True\n",
      "Name: salary, dtype: bool\n",
      "      name  salary\n",
      "1      Bob   50000\n",
      "2  Charile   40000\n",
      "\n",
      "0     True\n",
      "1    False\n",
      "2    False\n",
      "Name: name, dtype: bool\n",
      "  name  salary\n",
      "0  Amy   30000\n",
      "\n"
     ]
    }
   ],
   "source": [
    "#根據條件完成DataFrame篩選\n",
    "#都是篩選資料列(橫列)\n",
    "import pandas as pds\n",
    "\n",
    "data = pds.DataFrame({\n",
    "    \"name\":[\"Amy\",\"Bob\",\"Charile\"],\n",
    "    \"salary\":[30000,50000,40000]\n",
    "})\n",
    "print(data)\n",
    "print()\n",
    "\n",
    "#建立篩選條件\n",
    "condition = [False, True, True] #與資料列對應的布林值\n",
    "filterdata = data[condition] #根據條件完成篩選\n",
    "print(filterdata) #取列\n",
    "print()\n",
    "\n",
    "#ex:condition = data[\"欄位名稱\"] > 5\n",
    "condition2 = data[\"salary\"]>=40000 #透過特定欄位的比較運算產生\n",
    "print(condition2)\n",
    "filterdata = data[condition2]\n",
    "print(filterdata)\n",
    "print()\n",
    "\n",
    "condition3 = data[\"name\"]==\"Amy\"\n",
    "print(condition3)\n",
    "filterdata = data[condition3]\n",
    "print(filterdata)\n",
    "print()"
   ]
  },
  {
   "cell_type": "code",
   "execution_count": null,
   "metadata": {},
   "outputs": [],
   "source": []
  }
 ],
 "metadata": {
  "kernelspec": {
   "display_name": "Python 3",
   "language": "python",
   "name": "python3"
  },
  "language_info": {
   "codemirror_mode": {
    "name": "ipython",
    "version": 3
   },
   "file_extension": ".py",
   "mimetype": "text/x-python",
   "name": "python",
   "nbconvert_exporter": "python",
   "pygments_lexer": "ipython3",
   "version": "3.9.13"
  },
  "orig_nbformat": 4
 },
 "nbformat": 4,
 "nbformat_minor": 2
}
