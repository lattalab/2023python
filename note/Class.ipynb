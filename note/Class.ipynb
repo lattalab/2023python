{
 "cells": [
  {
   "cell_type": "code",
   "execution_count": 1,
   "metadata": {},
   "outputs": [],
   "source": [
    "# 在class中 封裝的變數或函式(function) 被稱作 類別的屬性(attribute) -- constructor之外的\n",
    "\n",
    "# 先定義class，在透過class建立實體物件\n",
    "# 有實體物件才能使用實體屬性(Instance Attribute)\n",
    "\n",
    "# Instance Attribute is unique to each object.\n",
    "# Instance Attribute defined inside the constructor function, __init__(self,..) of the class.\n",
    "\n",
    "# 實體方法是封裝在 實體物件中的函式"
   ]
  },
  {
   "attachments": {},
   "cell_type": "markdown",
   "metadata": {},
   "source": [
    "class 類別名稱:  \n",
    "    &emsp;# 定義初始化函式 (constructor)  \n",
    "    &emsp;def __init__(self):  \n",
    "  \n",
    "&emsp;&emsp;#透過操作self來定義實體屬性  \n",
    "  \n",
    "  &emsp; #定義實體方法/函式  \n",
    "  &emsp;def 方法名稱(self,更多自訂變數):  \n",
    "  \n",
    "  &emsp;&emsp;#方法主體，透過self操作實體物件\n",
    "  \n",
    "#建立實體物件，放入變數obj中  \n",
    "obj = 類別名稱() #呼叫初始化函式  "
   ]
  },
  {
   "cell_type": "code",
   "execution_count": 2,
   "metadata": {},
   "outputs": [
    {
     "name": "stdout",
     "output_type": "stream",
     "text": [
      "3 4\n",
      "1 5\n"
     ]
    }
   ],
   "source": [
    "class Point:\n",
    "    def __init__(self):\n",
    "        self.x = 3\n",
    "        self.y = 4\n",
    "\n",
    "# 建立實體物件\n",
    "# 此實體物件包含x和y兩個實體屬性\n",
    "p = Point()\n",
    "print(p.x, p.y)\n",
    "\n",
    "# 可以傳入參數的例子\n",
    "class Point2:\n",
    "    def __init__(self,x,y):\n",
    "        self.x = x\n",
    "        self.y = y\n",
    "p2 = Point2(1,5) #能傳參數的\n",
    "print(p2.x,p2.y)"
   ]
  },
  {
   "cell_type": "code",
   "execution_count": 4,
   "metadata": {},
   "outputs": [
    {
     "name": "stdout",
     "output_type": "stream",
     "text": [
      "3 4\n"
     ]
    },
    {
     "data": {
      "text/plain": [
       "5.0"
      ]
     },
     "execution_count": 4,
     "metadata": {},
     "output_type": "execute_result"
    }
   ],
   "source": [
    "class Point:\n",
    "    def __init__(self):\n",
    "        self.x = 3\n",
    "        self.y = 4\n",
    "    # 定義實體方法\n",
    "    def show(self):\n",
    "        print(self.x, self.y)\n",
    "    def distance(self,targetX,targetY):\n",
    "        return ( ((self.x-targetX)**2)+((self.y-targetY)**2) )**0.5\n",
    "\n",
    "# 建立實體物件\n",
    "# 此實體物件包含x和y兩個實體屬性\n",
    "p = Point()\n",
    "p.show() #呼叫實體方法\n",
    "p.distance(0,0)"
   ]
  },
  {
   "cell_type": "code",
   "execution_count": null,
   "metadata": {},
   "outputs": [],
   "source": []
  }
 ],
 "metadata": {
  "kernelspec": {
   "display_name": "base",
   "language": "python",
   "name": "python3"
  },
  "language_info": {
   "codemirror_mode": {
    "name": "ipython",
    "version": 3
   },
   "file_extension": ".py",
   "mimetype": "text/x-python",
   "name": "python",
   "nbconvert_exporter": "python",
   "pygments_lexer": "ipython3",
   "version": "3.9.13"
  },
  "orig_nbformat": 4
 },
 "nbformat": 4,
 "nbformat_minor": 2
}
