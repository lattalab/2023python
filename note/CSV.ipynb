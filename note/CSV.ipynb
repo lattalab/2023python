{
 "cells": [
  {
   "cell_type": "code",
   "execution_count": 1,
   "metadata": {},
   "outputs": [],
   "source": [
    "# CSV file without pandas(參考)\n",
    "\n",
    "# 寫檔:\n",
    "# 1.需要import csv\n",
    "# 2.開啟檔案\n",
    "# open(\"檔案名稱\",mode = \"w\", newline = \"\") \n",
    "\n",
    "# 3.建立 Writer 物件\n",
    "# csv.writer(已開啟的檔案物件)\n",
    "\n",
    "# 寫入一個列表\n",
    "# writer.writerow([資料1, 資料2, ...]) #這樣寫入時資料會用逗號隔開\n",
    "\n",
    "# 讀檔:\n",
    "# 1.需要import csv\n",
    "# 2.開啟檔案\n",
    "# open(\"檔案名稱\",mode = \"r\", newline = \"\") \n",
    "\n",
    "# 3.建立 Reader 物件\n",
    "# csv.reader(已開啟的檔案物件)\n",
    "\n",
    "# 逐列讀取資料\n",
    "# for row in reader:\n",
    "#   print(row) # row為列表的模式"
   ]
  },
  {
   "cell_type": "code",
   "execution_count": 2,
   "metadata": {},
   "outputs": [],
   "source": [
    "# 寫csv檔\n",
    "import csv\n",
    "with open(\"data.csv\", mode=\"w\", newline=\"\") as file:\n",
    "    writer = csv.writer(file)\n",
    "    writer.writerow([1,2,3])\n",
    "    writer.writerow([4,5,6])\n",
    "    writer.writerow([7,8,9])"
   ]
  },
  {
   "cell_type": "code",
   "execution_count": 8,
   "metadata": {},
   "outputs": [
    {
     "name": "stdout",
     "output_type": "stream",
     "text": [
      "['1', '2', '3']\n",
      "['4', '5', '6']\n",
      "['7', '8', '9']\n",
      "Total =  0\n"
     ]
    }
   ],
   "source": [
    "# 讀csv檔\n",
    "import csv\n",
    "with open(\"data.csv\", mode=\"r\", newline=\"\") as file:\n",
    "    reader = csv.reader(file)\n",
    "    #逐列讀取資料\n",
    "    for row in reader:\n",
    "        print(row) #List DataType\n",
    "\n",
    "# note: List裡面的元素是字串形式"
   ]
  },
  {
   "cell_type": "code",
   "execution_count": 9,
   "metadata": {},
   "outputs": [
    {
     "name": "stdout",
     "output_type": "stream",
     "text": [
      "Total =  45\n"
     ]
    }
   ],
   "source": [
    "import csv\n",
    "with open(\"data.csv\", mode=\"r\", newline=\"\") as file:\n",
    "    reader = csv.reader(file)\n",
    "    \n",
    "# 如果想要得到所有資料相加的總值\n",
    "    total = 0\n",
    "    for row in reader:\n",
    "        for i in row:\n",
    "            total = total + int(i)\n",
    "    print(\"Total = \", total)"
   ]
  },
  {
   "cell_type": "code",
   "execution_count": null,
   "metadata": {},
   "outputs": [],
   "source": []
  }
 ],
 "metadata": {
  "kernelspec": {
   "display_name": "base",
   "language": "python",
   "name": "python3"
  },
  "language_info": {
   "codemirror_mode": {
    "name": "ipython",
    "version": 3
   },
   "file_extension": ".py",
   "mimetype": "text/x-python",
   "name": "python",
   "nbconvert_exporter": "python",
   "pygments_lexer": "ipython3",
   "version": "3.9.13"
  },
  "orig_nbformat": 4
 },
 "nbformat": 4,
 "nbformat_minor": 2
}
