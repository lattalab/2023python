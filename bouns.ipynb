{
 "cells": [
  {
   "cell_type": "code",
   "execution_count": 6,
   "metadata": {},
   "outputs": [
    {
     "name": "stdout",
     "output_type": "stream",
     "text": [
      "Meow! I am Missy\n",
      "Meow! I am Fluffy\n",
      "Woof! Woof! I am Lassie\n"
     ]
    }
   ],
   "source": [
    "# inheritance\n",
    "class Animal:\n",
    "    def __init__(self,name): # constructor\n",
    "        self.name = name\n",
    "    def get_name(self):\n",
    "        return self.name\n",
    "    \n",
    "class Cat(Animal): # inheritance from Animal\n",
    "    def talk(self):\n",
    "        return 'Meow!'\n",
    "    \n",
    "class Dog(Animal):\n",
    "    def talk(self):\n",
    "        return 'Woof! Woof!'\n",
    " \n",
    "animals = [Cat('Missy'),Cat('Fluffy'),Dog('Lassie')]\n",
    "\n",
    "for animal in animals:\n",
    "    print (animal.talk()+' I am '+animal.get_name())\n"
   ]
  },
  {
   "cell_type": "code",
   "execution_count": 8,
   "metadata": {},
   "outputs": [
    {
     "name": "stdout",
     "output_type": "stream",
     "text": [
      "5\n",
      "3\n"
     ]
    }
   ],
   "source": [
    "# super().__init__會去呼叫父類別的initializer__init__\n",
    "class A():\n",
    "    def __init__(self,x): self.x=x\n",
    "\n",
    "class B(A):\n",
    "    def __str__(self):return str(self.x)\n",
    "\n",
    "# class C(B): #wrong way:\n",
    "#     def __init__(self,z):super(self.__init__(z))\n",
    "\n",
    "class C(B): #right way:\n",
    "    # C = 原本的class name,\n",
    "    # self.__init__() 調用Class C 中 super()的__init__)\n",
    "    def __init__(self,z):super(C, super().__init__(z))\n",
    "    def init2(self,z): super().__init__(z)\n",
    "\n",
    "d=C(5); print(d)\n",
    "d.init2(3); print(d)\n"
   ]
  },
  {
   "cell_type": "code",
   "execution_count": 10,
   "metadata": {},
   "outputs": [
    {
     "name": "stdout",
     "output_type": "stream",
     "text": [
      "True\n",
      "True False False\n"
     ]
    }
   ],
   "source": [
    "# issubclass()\n",
    "class A:\n",
    "    pass\n",
    "class B(A):\n",
    "    pass\n",
    "    \n",
    "print(issubclass(B,A))    # 返回 True\n",
    "\n",
    "# isinstance() 函数来判断一个对象是否是一个已知的类型，类似 type()。\n",
    "a = 2\n",
    "print(isinstance(a,int),isinstance(a,float),isinstance(a,str))"
   ]
  },
  {
   "cell_type": "code",
   "execution_count": 14,
   "metadata": {},
   "outputs": [
    {
     "name": "stdout",
     "output_type": "stream",
     "text": [
      "Prints in the parent() function\n",
      "Prints in the parent() function\n",
      "<function parent.<locals>.child1 at 0x000001E9F4D8B6A0>\n",
      "<function parent.<locals>.child2 at 0x000001E9FB00B7E0>\n"
     ]
    },
    {
     "data": {
      "text/plain": [
       "(\"Hi, I'm Alice!\", \"Hi, I'm Bob!\")"
      ]
     },
     "execution_count": 14,
     "metadata": {},
     "output_type": "execute_result"
    }
   ],
   "source": [
    "# decorator (@)\n",
    "# 1. function can be viewed as argument (ex. str , int , float)\n",
    "# 2. How to call function which is defined in another function\n",
    "def parent(num):\n",
    "    print(\"Prints in the parent() function\")\n",
    "    def child1():return \"Hi, I'm Alice!\"\n",
    "    def child2():return \"Hi, I'm Bob!\"\n",
    "    if num == 1: return child1 #Notice: we do\n",
    "    else: return child2        #not use a ()\n",
    "\n",
    "first=parent(1); second=parent(2)\n",
    "print(first) \n",
    "print(second) #Notice the way these display:\n",
    "\n",
    "first(),second() "
   ]
  },
  {
   "cell_type": "code",
   "execution_count": 16,
   "metadata": {},
   "outputs": [
    {
     "name": "stdout",
     "output_type": "stream",
     "text": [
      "<function say_whee at 0x000001E9FB08CAE0>\n",
      "<function my_decorator.<locals>.wrapper at 0x000001E9FB08C720>\n",
      "\n",
      "Something before function call\n",
      "whee!\n",
      "Something after function call\n"
     ]
    }
   ],
   "source": [
    "def my_decorator(func):\n",
    "    def wrapper(): # 包在一起\n",
    "        print('Something before function call')\n",
    "        func()\n",
    "        print('Something after function call')\n",
    "    return wrapper\n",
    "\n",
    "def say_whee(): print('whee!')\n",
    "\n",
    "print(say_whee)\n",
    "saywhee = my_decorator(say_whee)\n",
    "print(saywhee)\n",
    "print()\n",
    "saywhee()"
   ]
  },
  {
   "cell_type": "code",
   "execution_count": 20,
   "metadata": {},
   "outputs": [
    {
     "name": "stdout",
     "output_type": "stream",
     "text": [
      "Creating greeting\n",
      "Creating greeting\n",
      "\n",
      "None\n"
     ]
    }
   ],
   "source": [
    "def new_do_twice(func):\n",
    "   def wrap_do2x(*args, **kwargs):\n",
    "      func(*args, **kwargs)\n",
    "      func(*args, **kwargs)\n",
    "   return wrap_do2x\n",
    "\n",
    "@new_do_twice # decorator\n",
    "def return_greeting(name):\n",
    "    print(\"Creating greeting\")\n",
    "    return \"Hi, \"+name\n",
    "\n",
    "hi_alice = return_greeting(\"Alice\")\n",
    "print()\n",
    "print(hi_alice) # 因為沒有設定回傳值，所以None"
   ]
  },
  {
   "cell_type": "code",
   "execution_count": null,
   "metadata": {},
   "outputs": [],
   "source": []
  }
 ],
 "metadata": {
  "kernelspec": {
   "display_name": "Python 3",
   "language": "python",
   "name": "python3"
  },
  "language_info": {
   "codemirror_mode": {
    "name": "ipython",
    "version": 3
   },
   "file_extension": ".py",
   "mimetype": "text/x-python",
   "name": "python",
   "nbconvert_exporter": "python",
   "pygments_lexer": "ipython3",
   "version": "3.11.3"
  },
  "orig_nbformat": 4
 },
 "nbformat": 4,
 "nbformat_minor": 2
}
