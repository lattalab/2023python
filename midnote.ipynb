{
 "cells": [
  {
   "cell_type": "code",
   "execution_count": 4,
   "metadata": {},
   "outputs": [
    {
     "name": "stdout",
     "output_type": "stream",
     "text": [
      "1\n"
     ]
    }
   ],
   "source": [
    "# use \\ 將一個statement分割多行\n",
    "a\\\n",
    "= \\\n",
    "1\n",
    "print(a)"
   ]
  },
  {
   "cell_type": "code",
   "execution_count": 5,
   "metadata": {},
   "outputs": [
    {
     "name": "stdout",
     "output_type": "stream",
     "text": [
      "5 6\n"
     ]
    }
   ],
   "source": [
    "#use ',' to print 兩個變數 \n",
    "x = 5\n",
    "print(x , x+1)"
   ]
  },
  {
   "cell_type": "code",
   "execution_count": 6,
   "metadata": {},
   "outputs": [],
   "source": [
    "# _ in cygwin interactive mode:可以記住上一個印出的東西(但不包含print()印的東西)\n",
    "# 也可以當作變數做運算\n",
    "\n",
    "# x = a*_\n",
    "# 指派值給x，不印出值\n",
    "\n",
    "# dynamic Value binding: 對一個變數可以隨意更改值\n",
    "# dynamic Type binding: 對一個變數經過檢查指派的值而可以決定變數型態(python)\n",
    "# ex: x = \"hello\" (\"hello\"的資料型態是什麼? -> string)\n",
    "# strong typing: 一個運算式的資料型態不符合\n",
    "# ex: x+1 (string跟int不能相加)"
   ]
  },
  {
   "cell_type": "code",
   "execution_count": 33,
   "metadata": {},
   "outputs": [
    {
     "name": "stdout",
     "output_type": "stream",
     "text": [
      "31553589120\n",
      "(31, 5535, 89, 120)\n",
      "31553589120\n",
      "$31,553,589,120\n"
     ]
    }
   ],
   "source": [
    "USdebt = 31553589120\n",
    "print(USdebt)\n",
    "\n",
    "# 不能用,區隔，會變成tuple()\n",
    "USdebt = 31,5535,89,120\n",
    "print(USdebt)\n",
    "\n",
    "# 但可以用底線\n",
    "USdebt = 31_5535_89_120\n",
    "print(USdebt)\n",
    "\n",
    "print(f\"${USdebt:,d}\") #special print form\n",
    "\n",
    "#ps: ~ (binary Flip 把bit便顛倒)\n",
    "# 60 =  0011 1100\n",
    "# ~60 = 1100 0011 = -61(two's complement算的)"
   ]
  },
  {
   "cell_type": "code",
   "execution_count": 26,
   "metadata": {},
   "outputs": [
    {
     "name": "stdout",
     "output_type": "stream",
     "text": [
      "There's no problem\n",
      "And I said, \"I agree.\"\n",
      "She said, \"He said, 'OK'\"\n",
      "\n",
      "C:\\User\\Me\n",
      "C:\\\\User\\\\Me\n"
     ]
    }
   ],
   "source": [
    "# 不用跳脫字元也能印出想要的結果 的 例子\n",
    "x =\"There's no problem\"\n",
    "y = 'And I said, \"I agree.\"'\n",
    "z = '''She said, \"He said, 'OK'\"'''\n",
    "print(x)\n",
    "print(y)\n",
    "print(z)\n",
    "\n",
    "print()\n",
    "#用raw string，不會管跳脫字元\n",
    "print(\"C:\\\\User\\\\Me\") #compare\n",
    "print(r'C:\\\\User\\\\Me')"
   ]
  },
  {
   "cell_type": "code",
   "execution_count": 3,
   "metadata": {},
   "outputs": [
    {
     "name": "stdout",
     "output_type": "stream",
     "text": [
      "***Hi there 4***\n",
      "8 hours at $10.50 an hour = $84.00\n",
      "\n",
      "Hello, This is a test 17.80\n",
      "8hr * $10.50/hr = $84.00\n",
      "\n",
      "Hello, This is a test 17.80\n",
      "8hr * $10.50/hr = $84.00\n"
     ]
    },
    {
     "data": {
      "text/plain": [
       "'##Hello!##'"
      ]
     },
     "execution_count": 3,
     "metadata": {},
     "output_type": "execute_result"
    }
   ],
   "source": [
    "# print format\n",
    "\n",
    "#reminder: printf(\"Hello %d th user\", 4)\n",
    "# 1. C-style printf:\n",
    "# \"想印的東西\"%(argument list)\n",
    "print(\"***%s there %d***\" %(\"Hi\",4))\n",
    "print(\"%d hours at $%.2f an hour = $%.2f\" %(8, 10.5, 8*10.5))\n",
    "print()\n",
    "\n",
    "# 2. Formatted string literal\n",
    "# 用{} 表示要放入的變數\n",
    "print(f\"Hello, This is a test {17.8:.2f}\")\n",
    "pay=8*10.5; hour = 8.0; rate= 10.5\n",
    "print(f\"{int(hour)}hr * ${rate:.2f}/hr = ${pay:.2f}\")\n",
    "print()\n",
    "\n",
    "# 3. String.format()\n",
    "print(\"Hello, This is a test {:.2f}\".format(17.8))\n",
    "pay=8*10.5; hour = 8.0; rate= 10.5\n",
    "print(\"{}hr * ${:.2f}/hr = ${:.2f}\".format(int(hour), rate, pay))\n",
    "\n",
    "# 4. format()\n",
    "format(\"Hello!\", \"#^10s\") #置中 、 留10格 、 其餘用#填滿"
   ]
  },
  {
   "cell_type": "code",
   "execution_count": 48,
   "metadata": {},
   "outputs": [
    {
     "name": "stdout",
     "output_type": "stream",
     "text": [
      "['h', 'e', 'l', 'l', 'o', 1, 2]\n"
     ]
    }
   ],
   "source": [
    "# Numbers, string , tuple are immutable\n",
    "# List, Dictionary , Set are mutable\n",
    "# Set 裡面不能放list (因為他是mutable)\n",
    "\n",
    "# 當一個字串要轉變成List或Set或Tuple時， 逐字放入\n",
    "# 如果是List或Set或Tuple要轉變成String時， 直接加\"\"\n",
    "# 但如果是List, Set , Tuple這三者互換時，只看裡面的元素\n",
    "\n",
    "#use * to separate word to list\n",
    "print( [*\"hello\", *[1,2]] )\n",
    "\n",
    "# Set: unordered、mutable\n",
    "# Dictionary :unorder、mutable\n",
    "# List: ordered、mutable\n",
    "# Tuple: ordered、immutable"
   ]
  },
  {
   "cell_type": "code",
   "execution_count": 51,
   "metadata": {},
   "outputs": [
    {
     "name": "stdout",
     "output_type": "stream",
     "text": [
      "1; 2; 3\n",
      "[1, 2, 3]\n",
      "\n",
      "1; 2; 3\n",
      "[1, 2, 3]\n",
      "(2, 1)\n"
     ]
    }
   ],
   "source": [
    "# end for print:再印出值之後加東西\n",
    "a = [1,2,3]\n",
    "print(a[0], end =\"; \")\n",
    "print(a[1] , end=\"; \")\n",
    "print(a[2])\n",
    "print(a)\n",
    "print()\n",
    "\n",
    "# sep for print:多重印 用sep裡面的東西隔開\n",
    "print(a[0],a[1],a[2], sep=\"; \")\n",
    "print(a)\n",
    "print()\n",
    "\n",
    "# return a pair of x//y and x%y\n",
    "print(divmod(7,3))\n",
    "\n",
    "# sort(L, reversed = True): 會照ASCII排(大到小)\n",
    "# [*reversed(L)] = list(reversed(L)) = L[::-1]: List反過來放\n",
    "\n",
    "# sorted() vs L.sort()\n",
    "# sorted(): 不改變原本的list\n",
    "# L.sort(): 會改變原本的list"
   ]
  },
  {
   "cell_type": "code",
   "execution_count": 58,
   "metadata": {},
   "outputs": [
    {
     "name": "stdout",
     "output_type": "stream",
     "text": [
      "1.0\n",
      "\n",
      "0.0\n"
     ]
    }
   ],
   "source": [
    "# import math (現在math是一個object，可以call method())\n",
    "\n",
    "# form module_name import ....\n",
    "from math import cos\n",
    "print(cos(0))\n",
    "print()\n",
    "\n",
    "# form module_name import * :import all method() form this module_name\n",
    "# import module_name as ... :rename the module_name\n",
    "# from module_name import ... as New_name : rename the method()\n",
    "\n",
    "# __all__ = ['...' , '...' , '....']\n",
    "# from module_name import * (此時只能存取__all__裡面有的東西)"
   ]
  },
  {
   "cell_type": "code",
   "execution_count": 62,
   "metadata": {},
   "outputs": [
    {
     "name": "stdout",
     "output_type": "stream",
     "text": [
      "1\n",
      "2\n",
      "3\n",
      "4\n",
      "Final value of i =  5\n"
     ]
    }
   ],
   "source": [
    "i =1\n",
    "while i<5:\n",
    "    print(i)\n",
    "    i += 1\n",
    "else: #用else 在迴圈判斷條件為False時做事\n",
    "    print(\"Final value of i = \",i)"
   ]
  },
  {
   "cell_type": "code",
   "execution_count": 79,
   "metadata": {},
   "outputs": [
    {
     "name": "stdout",
     "output_type": "stream",
     "text": [
      "2 2 2\n",
      "2 3 4\n",
      "4 5 6\n",
      "\n",
      "1 , 2 , 3\n",
      "a , [2] , (3,)\n",
      "1 ,  , c\n",
      "\n",
      "1 , a , 1\n",
      "2 , [2] , \n",
      "3 , (3,) , c\n",
      "\n",
      "[(1, 1), (2, ''), (3, 'c')]\n",
      "[(1, 1000), (2, 1001)]\n",
      "[('H',), ('e',), ('l',), ('l',), ('o',)]\n",
      "[('H', 10, 'b'), ('e', 20, 'y')]\n",
      "\n",
      "[(0, 'a'), (1, 'b'), (2, 'c')]\n",
      "[(0, 'a'), (1, 'b'), (2, 'c')]\n"
     ]
    }
   ],
   "source": [
    "# multiple assignment\n",
    "a = b = c =2; print(a,b,c) #like C-language\n",
    "a,b,c = 2,3,4; print(a,b,c) #use tuple way\n",
    "x = [4,5,6]\n",
    "a,b,c = x; print(a,b,c) #use list\n",
    "print()\n",
    "\n",
    "# Parallel traversal\n",
    "# 1. 一個list跑完在換下一個\n",
    "x = (1,2,3); y =('a', [2], (3,)); z =(1,'','c')\n",
    "for i,j,k in (x,y,z):\n",
    "    print(i,\",\",j,\",\",k)\n",
    "print()\n",
    "\n",
    "# 2. use zip 跑每個list中的第n個..\n",
    "for i,j,k in zip(x,y,z):\n",
    "    print(i,\",\",j,\",\",k)\n",
    "\n",
    "print()\n",
    "\n",
    "\n",
    "# zip(x1,x2,...): 兩個object根據index做配對，如果長度不一致，用長度較短的\n",
    "print( list(zip(x,z)) )\n",
    "print( list( zip( x, (1000,1001) ) ) )\n",
    "# 字串在zip中: 逐一取character\n",
    "print( [*zip(\"Hello\")] ) #沒有東西配\n",
    "print( [*zip(\"Hello\", [10,20], \"bye\")] )\n",
    "print()\n",
    "\n",
    "# enumenate(x) : 對一個object裡面的元素，根據index做配對\n",
    "# two ways to print:\n",
    "print( [*enumerate(['a','b','c'])] )\n",
    "print( list(enumerate(['a','b','c'])) )"
   ]
  },
  {
   "cell_type": "code",
   "execution_count": 82,
   "metadata": {},
   "outputs": [],
   "source": [
    "# map(function,iterable)\n",
    "\n",
    "# Tuple do is the same like List\n",
    "# 可是Tuple裡面的值不能動\n",
    "\n",
    "# Set is unordered,so we can't use set[0]\n",
    "# {1,2,3} == {3,2,1} => True\n",
    "# Set 不會有重複的element，且element是immutable\n",
    "# Set 沒有slice跟 *(repetition)\n",
    "# a Set CANNOT be in Set"
   ]
  },
  {
   "cell_type": "code",
   "execution_count": 84,
   "metadata": {},
   "outputs": [
    {
     "name": "stdout",
     "output_type": "stream",
     "text": [
      "{0: 'H', 1: 'e', 2: 'l', 3: 'l', 4: 'o'}\n",
      "\n",
      "{'apple': 5, (1, 2): 637, 3j: 961}\n"
     ]
    }
   ],
   "source": [
    "# Dictionary\n",
    "# key must immutable( Tuple, String, Number), Value is no limit.\n",
    "\n",
    "# 1.利用 enumerate() 創造 Dictionary\n",
    "print( dict(enumerate(\"Hello\")) )\n",
    "print()\n",
    "# 2. 利用zip() 創造 Dictionary\n",
    "print( dict(zip([\"apple\",(1,2), 3j], [5,637,961])) )\n",
    "print()\n",
    "\n",
    "# Dictionay dynamic view\n",
    "# dict.values() 跟 dict.keys() 會根據Dictionary的值做變化"
   ]
  },
  {
   "cell_type": "code",
   "execution_count": null,
   "metadata": {},
   "outputs": [],
   "source": [
    "# callable() 看看可不可以被呼叫\n",
    "\n",
    "# id() 返回標誌符號，為一個整數，It is unique\n",
    "# CPython 中 id() 返回memory address。\n",
    "\n",
    "# hash() 將一個 Object 轉換為 整數。\n",
    "# 只能call immutable type， PS:function可以正常運行\n",
    "\n",
    "# == 是判斷兩個變數之間的『值』是否相同\n",
    "# is 是判斷兩個變數之間的『記憶體位址』是否相同。\n",
    "# 變體 != 跟 is not\n",
    "\n",
    "# Dictionary 不能 compare\n",
    "\n",
    "# {*\"abc\"} => {'a', 'b', 'c'}\n",
    "# [*\"abc\"] => ['a', 'b', 'c']\n",
    "# (*\"abc\") => syntax error"
   ]
  },
  {
   "attachments": {},
   "cell_type": "markdown",
   "metadata": {},
   "source": [
    "**2021 midterm:**  \n",
    "  \n",
    "list() 裡面只能放一個 -> Type Error  \n",
    "list(\"Hello\") -> ['H','e','l','l','o'] (將字串轉型成list)  \n",
    "\n",
    "*In Python, string is immutable, so we cann't do s[0] = 'i' (Type Error)*  \n",
    "2e-2+2j :科學記號 => 0.02+2j  \n",
    "\n",
    "syntax error:沒有這個用法  \n",
    "type error:有這個用法，但不是這個DataType  \n",
    "4 and 20 : 印後面的20    \n",
    "4 or 20: 印前面的4  \n",
    "\n",
    "'abcde'[1:1] = 'abcde'[1:1:1] = ''  \n",
    "repr() :返回字串  \n",
    "\n",
    "[*[1],*(2),3,*\"4\"] Type Error for *(2) , must be iterable  \n",
    "印多個會換行  \n",
    "\n",
    "L.insert(index,value)  \n",
    "{} is a Dictionary  \n",
    "\n",
    "3<4<5 ==> 3<4 and 4<5 ==> **True**  \n",
    "and 比 or 先做  \n",
    "指派時不印出值  \n",
    "\n",
    "(\"\" or () or \"a\" or 3)*5 ==> 'a'*5  \n",
    "x,y,z = 1,2,3,4; x ==> **value error**  \n",
    "\n",
    "from math import cos ==> 可以直接叫cos，不用math  \n",
    "math.cos() ==> name error  \n",
    "\n",
    "eval(\"print('hello');\"+\"print('world')\") ==> 得到sytnax error，因為;  \n",
    "exec() 可以放入「多行字串」，並把輸入的字串，轉換成可執行的程式碼後並執行，Type = nonType!!   \n",
    "eval() 可以放入「一行字串」，並把輸入的字串，轉換成可執行的程式碼後並執行，Type = nonType!!  \n",
    "  "
   ]
  }
 ],
 "metadata": {
  "kernelspec": {
   "display_name": "base",
   "language": "python",
   "name": "python3"
  },
  "language_info": {
   "codemirror_mode": {
    "name": "ipython",
    "version": 3
   },
   "file_extension": ".py",
   "mimetype": "text/x-python",
   "name": "python",
   "nbconvert_exporter": "python",
   "pygments_lexer": "ipython3",
   "version": "3.9.13"
  },
  "orig_nbformat": 4
 },
 "nbformat": 4,
 "nbformat_minor": 2
}
